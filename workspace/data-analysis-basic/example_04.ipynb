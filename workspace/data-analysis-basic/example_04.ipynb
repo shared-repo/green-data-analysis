{
 "cells": [
  {
   "cell_type": "code",
   "execution_count": null,
   "metadata": {},
   "outputs": [],
   "source": [
    "# 일간 데이터를 월별 데이터로 구조 변경\n",
    "# 월 - [일자별 데이터] : dictionary 형식"
   ]
  },
  {
   "cell_type": "code",
   "execution_count": 2,
   "metadata": {},
   "outputs": [],
   "source": [
    "# 1. 전체 데이터 읽기\n",
    "import csv\n",
    "\n",
    "with open(\"data-files/seoul-temperature.csv\") as f:\n",
    "    reader = csv.reader(f)\n",
    "\n",
    "    rows = []\n",
    "    for row in reader:\n",
    "        row[0] = row[0].strip(\"\\t\")\n",
    "        rows.append(row)\n",
    "        \n",
    "source_rows = rows.copy()"
   ]
  },
  {
   "cell_type": "code",
   "execution_count": 5,
   "metadata": {},
   "outputs": [
    {
     "data": {
      "text/plain": [
       "'10'"
      ]
     },
     "execution_count": 5,
     "metadata": {},
     "output_type": "execute_result"
    }
   ],
   "source": [
    "rows[1][0][5:7]"
   ]
  },
  {
   "cell_type": "code",
   "execution_count": 7,
   "metadata": {},
   "outputs": [],
   "source": [
    "# 월별로 데이터 재구성\n",
    "data_by_month = {}\n",
    "for row in rows:\n",
    "    month = row[0][5:7] # '2023-03-08' -> '03'\n",
    "    if month in data_by_month: # dict에 month 키가 있는지 확인\n",
    "        data_by_month[month].append(row) # 있으면 추가\n",
    "    else:\n",
    "        data_by_month[month] = [row] # 없으면 새로 생성"
   ]
  },
  {
   "cell_type": "code",
   "execution_count": 9,
   "metadata": {},
   "outputs": [],
   "source": [
    "from collections import defaultdict # dict의 초기 값 자동 관리\n",
    "\n",
    "data_by_month2 = defaultdict(list) # list 형식을 값으로 사용하는 defaultdict\n",
    "for row in rows:\n",
    "    month = row[0][5:7] # '2023-03-08' -> '03'\n",
    "    data_by_month2[month].append(row)\n",
    "   "
   ]
  },
  {
   "cell_type": "code",
   "execution_count": 11,
   "metadata": {},
   "outputs": [
    {
     "name": "stdout",
     "output_type": "stream",
     "text": [
      "[['1908-01-01', '108', '-5.9', '-9.1', '-1.3'], ['1908-01-02', '108', '-7.7', '-13.9', '-3'], ['1908-01-03', '108', '-6.2', '-10.8', '-2.9'], ['1908-01-04', '108', '-7.5', '-12.8', '-1.7'], ['1908-01-05', '108', '-4.8', '-11.3', '-0.1']]\n",
      "[['1908-01-01', '108', '-5.9', '-9.1', '-1.3'], ['1908-01-02', '108', '-7.7', '-13.9', '-3'], ['1908-01-03', '108', '-6.2', '-10.8', '-2.9'], ['1908-01-04', '108', '-7.5', '-12.8', '-1.7'], ['1908-01-05', '108', '-4.8', '-11.3', '-0.1']]\n"
     ]
    }
   ],
   "source": [
    "print( data_by_month[\"01\"][:5] )\n",
    "print( data_by_month2[\"01\"][:5] )"
   ]
  },
  {
   "cell_type": "code",
   "execution_count": 17,
   "metadata": {},
   "outputs": [
    {
     "name": "stdout",
     "output_type": "stream",
     "text": [
      "4.5157849338700435\n"
     ]
    }
   ],
   "source": [
    "# \"05\"월의 (평균기온의) 평균\n",
    "# data_by_month[\"13\"] # \"13\"에 해당하는 키가 없으면 오류\n",
    "data = data_by_month.get(\"03\", None)\n",
    "if data == None:\n",
    "    print(\"데이터가 없습니다.\")\n",
    "else:\n",
    "    sum_value = 0\n",
    "    cnt = 0\n",
    "    for row in data:\n",
    "        if row[2] != '':\n",
    "            sum_value += float(row[2])\n",
    "            cnt += 1\n",
    "\n",
    "    print(sum_value / cnt)"
   ]
  }
 ],
 "metadata": {
  "kernelspec": {
   "display_name": "kdt-da",
   "language": "python",
   "name": "python3"
  },
  "language_info": {
   "codemirror_mode": {
    "name": "ipython",
    "version": 3
   },
   "file_extension": ".py",
   "mimetype": "text/x-python",
   "name": "python",
   "nbconvert_exporter": "python",
   "pygments_lexer": "ipython3",
   "version": "3.9.16"
  },
  "orig_nbformat": 4
 },
 "nbformat": 4,
 "nbformat_minor": 2
}
