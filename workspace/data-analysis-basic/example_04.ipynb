{
 "cells": [
  {
   "cell_type": "code",
   "execution_count": null,
   "metadata": {},
   "outputs": [],
   "source": [
    "# 일간 데이터를 월별 데이터로 구조 변경\n",
    "# 월 - [일자별 데이터] : dictionary 형식"
   ]
  },
  {
   "cell_type": "code",
   "execution_count": 2,
   "metadata": {},
   "outputs": [],
   "source": [
    "# 1. 전체 데이터 읽기\n",
    "import csv\n",
    "\n",
    "with open(\"data-files/seoul-temperature.csv\") as f:\n",
    "    reader = csv.reader(f)\n",
    "\n",
    "    rows = []\n",
    "    for row in reader:\n",
    "        row[0] = row[0].strip(\"\\t\")\n",
    "        rows.append(row)\n",
    "        \n",
    "source_rows = rows.copy()"
   ]
  },
  {
   "cell_type": "code",
   "execution_count": 5,
   "metadata": {},
   "outputs": [
    {
     "data": {
      "text/plain": [
       "'10'"
      ]
     },
     "execution_count": 5,
     "metadata": {},
     "output_type": "execute_result"
    }
   ],
   "source": [
    "rows[1][0][5:7]"
   ]
  },
  {
   "cell_type": "code",
   "execution_count": 7,
   "metadata": {},
   "outputs": [],
   "source": [
    "# 월별로 데이터 재구성\n",
    "data_by_month = {}\n",
    "for row in rows:\n",
    "    month = row[0][5:7] # '2023-03-08' -> '03'\n",
    "    if month in data_by_month: # dict에 month 키가 있는지 확인\n",
    "        data_by_month[month].append(row) # 있으면 추가\n",
    "    else:\n",
    "        data_by_month[month] = [row] # 없으면 새로 생성"
   ]
  },
  {
   "cell_type": "code",
   "execution_count": 9,
   "metadata": {},
   "outputs": [],
   "source": [
    "from collections import defaultdict # dict의 초기 값 자동 관리\n",
    "\n",
    "data_by_month2 = defaultdict(list) # list 형식을 값으로 사용하는 defaultdict\n",
    "for row in rows:\n",
    "    month = row[0][5:7] # '2023-03-08' -> '03'\n",
    "    data_by_month2[month].append(row)\n",
    "   "
   ]
  },
  {
   "cell_type": "code",
   "execution_count": 11,
   "metadata": {},
   "outputs": [
    {
     "name": "stdout",
     "output_type": "stream",
     "text": [
      "[['1908-01-01', '108', '-5.9', '-9.1', '-1.3'], ['1908-01-02', '108', '-7.7', '-13.9', '-3'], ['1908-01-03', '108', '-6.2', '-10.8', '-2.9'], ['1908-01-04', '108', '-7.5', '-12.8', '-1.7'], ['1908-01-05', '108', '-4.8', '-11.3', '-0.1']]\n",
      "[['1908-01-01', '108', '-5.9', '-9.1', '-1.3'], ['1908-01-02', '108', '-7.7', '-13.9', '-3'], ['1908-01-03', '108', '-6.2', '-10.8', '-2.9'], ['1908-01-04', '108', '-7.5', '-12.8', '-1.7'], ['1908-01-05', '108', '-4.8', '-11.3', '-0.1']]\n"
     ]
    }
   ],
   "source": [
    "print( data_by_month[\"01\"][:5] )\n",
    "print( data_by_month2[\"01\"][:5] )"
   ]
  },
  {
   "cell_type": "code",
   "execution_count": 17,
   "metadata": {},
   "outputs": [
    {
     "name": "stdout",
     "output_type": "stream",
     "text": [
      "4.5157849338700435\n"
     ]
    }
   ],
   "source": [
    "# \"05\"월의 (평균기온의) 평균\n",
    "# data_by_month[\"13\"] # \"13\"에 해당하는 키가 없으면 오류\n",
    "data = data_by_month.get(\"03\", None)\n",
    "if data == None:\n",
    "    print(\"데이터가 없습니다.\")\n",
    "else:\n",
    "    sum_value = 0\n",
    "    cnt = 0\n",
    "    for row in data:\n",
    "        if row[2] != '':\n",
    "            sum_value += float(row[2])\n",
    "            cnt += 1\n",
    "\n",
    "    print(sum_value / cnt)"
   ]
  },
  {
   "cell_type": "code",
   "execution_count": 18,
   "metadata": {},
   "outputs": [],
   "source": [
    "# 특정월의 (평균기온 or 최저기온 or 최대기온의) 평균\n",
    "def mean_temperature_by_month(month, t='mean'):\n",
    "    data = data_by_month.get(month, None)\n",
    "    if data == None:\n",
    "        return None\n",
    "    else:\n",
    "        sum_value = 0\n",
    "        cnt = 0\n",
    "        c_index = 2 if t == 'mean' else ( 3 if t == 'min' else 4 )\n",
    "        for row in data:\n",
    "            if row[c_index] != '':\n",
    "                sum_value += float(row[c_index])\n",
    "                cnt += 1\n",
    "\n",
    "        return sum_value / cnt"
   ]
  },
  {
   "cell_type": "code",
   "execution_count": 21,
   "metadata": {},
   "outputs": [
    {
     "name": "stdout",
     "output_type": "stream",
     "text": [
      "0.7849557522123894\n"
     ]
    }
   ],
   "source": [
    "print( mean_temperature_by_month(\"01\", 'max'))"
   ]
  },
  {
   "cell_type": "code",
   "execution_count": 25,
   "metadata": {},
   "outputs": [
    {
     "data": {
      "text/plain": [
       "('01', '10')"
      ]
     },
     "execution_count": 25,
     "metadata": {},
     "output_type": "execute_result"
    }
   ],
   "source": [
    "# 1 -> \"01\", 10 -> \"10\"\n",
    "\"{0:02d}\".format(1), \"{0:02d}\".format(10)"
   ]
  },
  {
   "cell_type": "code",
   "execution_count": 30,
   "metadata": {},
   "outputs": [],
   "source": [
    "# 월별 평균 기온 리스트 만들기\n",
    "\n",
    "means_by_month = []\n",
    "for month in range(1, 13):\n",
    "    month_str = \"{0:02d}\".format(month)\n",
    "    mean_value = mean_temperature_by_month(month_str, \"mean\")\n",
    "    means_by_month.append(mean_value)\n",
    "\n",
    "means_by_month2 = [ mean_temperature_by_month(\"{0:02d}\".format(m), 'mean') for m in range(1, 13) ]"
   ]
  },
  {
   "cell_type": "code",
   "execution_count": 32,
   "metadata": {},
   "outputs": [
    {
     "data": {
      "text/plain": [
       "([-3.5340565229803076,\n",
       "  -0.9031328320802009,\n",
       "  4.5157849338700435,\n",
       "  11.46705357142855,\n",
       "  17.012298387096774],\n",
       " [-3.5340565229803076,\n",
       "  -0.9031328320802009,\n",
       "  4.5157849338700435,\n",
       "  11.46705357142855,\n",
       "  17.012298387096774])"
      ]
     },
     "execution_count": 32,
     "metadata": {},
     "output_type": "execute_result"
    }
   ],
   "source": [
    "means_by_month[:5], means_by_month2[:5]"
   ]
  },
  {
   "cell_type": "code",
   "execution_count": 33,
   "metadata": {},
   "outputs": [
    {
     "data": {
      "image/png": "[encoded data removed]",
      "text/plain": [
       "<Figure size 640x480 with 1 Axes>"
      ]
     },
     "metadata": {},
     "output_type": "display_data"
    }
   ],
   "source": [
    "import matplotlib.pyplot as plt\n",
    "\n",
    "x = [\"{0:02d}\".format(m) for m in range(1, 13)] # [1, 2, 3, ...] -> ['01', '02', '03', ...]\n",
    "plt.bar(x, means_by_month)\n",
    "plt.show()"
   ]
  },
  {
   "cell_type": "code",
   "execution_count": null,
   "metadata": {},
   "outputs": [],
   "source": []
  },
  {
   "cell_type": "code",
   "execution_count": null,
   "metadata": {},
   "outputs": [],
   "source": [
    "# covid-19 데이터 사용\n",
    "# 년도-월 기준으로 데이터 집계 : 딕셔너리 형식 사용 -> { '2020-02' : [], '2020-03' : [] }\n",
    "# 월별 자치구별 신규 발생 건수의 평균을 반환하는 함수 만들기\n",
    "# 전체 기간의 월별 데이터로 bar plot 표시"
   ]
  },
  {
   "cell_type": "code",
   "execution_count": 34,
   "metadata": {},
   "outputs": [],
   "source": [
    "# 1. 파일 데이터 읽기\n",
    "import csv\n",
    "\n",
    "with open(\"data-files/seoul-covid-19.csv\", \"rt\", encoding=\"utf-8\") as f:\n",
    "    covid_reader = csv.reader(f)\n",
    "\n",
    "    titles = next(covid_reader) # next : 목록(iterator)에서 다음 행으로 이동 ( 제목 표시 행 건너뛰기 )\n",
    "\n",
    "    covid_rows = []\n",
    "    for row in covid_reader:\n",
    "        row[1:] = map(lambda v: int(v) , row[1:]) # 1번째 요소부터 마지막 요소까지 숫자로 변경\n",
    "        covid_rows.append(row)"
   ]
  },
  {
   "cell_type": "code",
   "execution_count": 36,
   "metadata": {},
   "outputs": [],
   "source": [
    "# { 'yyyy.MM' : [] } 형식의 데이터 구성\n",
    "from collections import defaultdict\n",
    "\n",
    "data_by_year_month = defaultdict(list)\n",
    "for row in covid_rows:\n",
    "    ym = row[0][:7]\n",
    "    data_by_year_month[ym].append(row)\n"
   ]
  },
  {
   "cell_type": "code",
   "execution_count": 40,
   "metadata": {},
   "outputs": [
    {
     "data": {
      "text/plain": [
       "['자치구 기준일',\n",
       " '종로구 전체',\n",
       " '종로구 추가',\n",
       " '중구 전체',\n",
       " '중구 추가',\n",
       " '용산구 전체',\n",
       " '용산구 추가',\n",
       " '성동구 전체',\n",
       " '성동구 추가',\n",
       " '광진구 전체',\n",
       " '광진구 추가',\n",
       " '동대문구 전체',\n",
       " '동대문구 추가',\n",
       " '중랑구 전체',\n",
       " '중랑구 추가',\n",
       " '성북구 전체',\n",
       " '성북구 추가',\n",
       " '강북구 전체',\n",
       " '강북구 추가',\n",
       " '도봉구 전체',\n",
       " '도봉구 추가',\n",
       " '노원구 전체',\n",
       " '노원구 추가',\n",
       " '은평구 전체',\n",
       " '은평구 추가',\n",
       " '서대문구 전체',\n",
       " '서대문구 추가',\n",
       " '마포구 전체',\n",
       " '마포구 추가',\n",
       " '양천구 전체',\n",
       " '양천구 추가',\n",
       " '강서구 전체',\n",
       " '강서구 추가',\n",
       " '구로구 전체',\n",
       " '구로구 추가',\n",
       " '금천구 전체',\n",
       " '금천구 추가',\n",
       " '영등포구 전체',\n",
       " '영등포구 추가',\n",
       " '동작구 전체',\n",
       " '동작구 추가',\n",
       " '관악구 전체',\n",
       " '관악구 추가',\n",
       " '서초구 전체',\n",
       " '서초구 추가',\n",
       " '강남구 전체',\n",
       " '강남구 추가',\n",
       " '송파구 전체',\n",
       " '송파구 추가',\n",
       " '강동구 전체',\n",
       " '강동구 추가',\n",
       " '기타 전체',\n",
       " '기타 추가']"
      ]
     },
     "execution_count": 40,
     "metadata": {},
     "output_type": "execute_result"
    }
   ],
   "source": [
    "titles"
   ]
  },
  {
   "cell_type": "code",
   "execution_count": 44,
   "metadata": {},
   "outputs": [],
   "source": [
    "def mean_by_gu_and_year_month(gu, year, month):\n",
    "\n",
    "    col_idx = -1\n",
    "    for idx, title in enumerate(titles):\n",
    "        if gu in title and \"추가\" in title:\n",
    "            col_idx = idx\n",
    "            break\n",
    "\n",
    "    if col_idx == -1:\n",
    "        return None\n",
    "\n",
    "    year_month = \"{0:04d}.{1:02d}\".format(year, month)\n",
    "    data = data_by_year_month.get(year_month, None)\n",
    "    if data == None:\n",
    "        return None\n",
    "    else:\n",
    "        sum_value = 0\n",
    "        cnt = 0\n",
    "        for row in data:\n",
    "            sum_value += row[col_idx]\n",
    "            cnt += 1\n",
    "        \n",
    "        return sum_value / cnt"
   ]
  },
  {
   "cell_type": "code",
   "execution_count": 47,
   "metadata": {},
   "outputs": [
    {
     "data": {
      "text/plain": [
       "4227.0"
      ]
     },
     "execution_count": 47,
     "metadata": {},
     "output_type": "execute_result"
    }
   ],
   "source": [
    "mean_by_gu_and_year_month(\"송파\", 2022, 3)"
   ]
  }
 ],
 "metadata": {
  "kernelspec": {
   "display_name": "kdt-da",
   "language": "python",
   "name": "python3"
  },
  "language_info": {
   "codemirror_mode": {
    "name": "ipython",
    "version": 3
   },
   "file_extension": ".py",
   "mimetype": "text/x-python",
   "name": "python",
   "nbconvert_exporter": "python",
   "pygments_lexer": "ipython3",
   "version": "3.9.16"
  },
  "orig_nbformat": 4
 },
 "nbformat": 4,
 "nbformat_minor": 2
}
