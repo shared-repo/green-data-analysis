{
 "cells": [
  {
   "cell_type": "code",
   "execution_count": 2,
   "metadata": {},
   "outputs": [],
   "source": [
    "import numpy as np"
   ]
  },
  {
   "cell_type": "code",
   "execution_count": 67,
   "metadata": {},
   "outputs": [],
   "source": [
    "temperature_data = np.loadtxt(\"data-files/seoul-temperature.csv\", delimiter=\",\", dtype=str)"
   ]
  },
  {
   "cell_type": "code",
   "execution_count": 68,
   "metadata": {},
   "outputs": [
    {
     "name": "stdout",
     "output_type": "stream",
     "text": [
      "(41731, 5)\n"
     ]
    }
   ],
   "source": [
    "print(temperature_data.shape)"
   ]
  },
  {
   "cell_type": "code",
   "execution_count": 69,
   "metadata": {},
   "outputs": [],
   "source": [
    "titles = temperature_data[0,:]\n",
    "temperature_data2 = temperature_data[1:,:]"
   ]
  },
  {
   "cell_type": "code",
   "execution_count": 70,
   "metadata": {},
   "outputs": [
    {
     "name": "stdout",
     "output_type": "stream",
     "text": [
      "['날짜' '지점' '평균기온(℃)' '최저기온(℃)' '최고기온(℃)']\n",
      "[['\"\\t1907-10-01\"' '108' '13.5' '7.9' '20.7']\n",
      " ['\"\\t1907-10-02\"' '108' '16.2' '7.9' '22']]\n"
     ]
    }
   ],
   "source": [
    "print( titles )\n",
    "print( temperature_data2[:2])"
   ]
  },
  {
   "cell_type": "code",
   "execution_count": 78,
   "metadata": {},
   "outputs": [
    {
     "data": {
      "text/plain": [
       "array([['1907-10-01', '108.0', '13.5', '7.9', '20.7'],\n",
       "       ['1907-10-02', '108.0', '16.2', '7.9', '22.0'],\n",
       "       ['1907-10-03', '108.0', '16.2', '13.1', '21.3'],\n",
       "       ...,\n",
       "       ['2023-03-04', '108.0', '7.7', '3.7', '14.1'],\n",
       "       ['2023-03-05', '108.0', '8.0', '2.5', '15.4'],\n",
       "       ['2023-03-06', '108.0', '9.2', '2.2', '16.5']], dtype='<U32')"
      ]
     },
     "execution_count": 78,
     "metadata": {},
     "output_type": "execute_result"
    }
   ],
   "source": [
    "def transform_row(row):\n",
    "    try:\n",
    "        new_row = list(row)\n",
    "        new_row[0] = row[0].replace(\"\\t\", \"\").replace(\"\\\"\", \"\")\n",
    "        new_row[1:] = list(map(lambda v : float(v), row[1:]) )        \n",
    "    except:\n",
    "        pass\n",
    "    return list(new_row)\n",
    "\n",
    "transformed = map(lambda row: transform_row(row), temperature_data2)\n",
    "np.array( list(transformed) )"
   ]
  },
  {
   "cell_type": "code",
   "execution_count": 81,
   "metadata": {},
   "outputs": [],
   "source": [
    "# 날짜와 기온 데이터 분리 (numpy array는 문자열과 숫자를 동시에 저장할 수 없기 때문에...)\n",
    "obs_date = temperature_data2[:, 0]\n",
    "only_temperature = temperature_data2[:, 1:]"
   ]
  },
  {
   "cell_type": "code",
   "execution_count": 96,
   "metadata": {},
   "outputs": [
    {
     "name": "stdout",
     "output_type": "stream",
     "text": [
      "2018-08-01 [108.   33.6  27.8  39.6]\n"
     ]
    }
   ],
   "source": [
    "# '' 데이터 행 제거\n",
    "boolean_indexer = list(map(lambda row : '' not in row, only_temperature)) #'' 없는 행 True, False로 구분\n",
    "filtered_obs_date = obs_date[boolean_indexer] # True인 데이터만 뽑기\n",
    "filtered_only_temperature = only_temperature[boolean_indexer] # True인 데이터만 뽑기\n",
    "\n",
    "# 수치 변환 (string -> float)\n",
    "transform_float = np.vectorize(float) # np.vectorize(함수) numpy에 함수 등록 (여기서는 변환 함수를 등록)\n",
    "filtered_only_temperature = transform_float(filtered_only_temperature)\n",
    "\n",
    "col_idx = np.where('최고기온(℃)' == titles)[0][0] # 조건에 해당하는 위치 반환\n",
    "\n",
    "max_temperature = filtered_only_temperature[:, col_idx-1].max() # numpy array에서 max 값 찾기 \n",
    "max_idx = np.argwhere(max_temperature == filtered_only_temperature[:, col_idx-1]) # 조건에 해당하는 위치 반환\n",
    "\n",
    "# zip(list-a, list-b) -> list-a와 list-b에서 순서에 따라 한 개씩 꺼내서 결합한 요소로 새 list 만들기\n",
    "for d, t in zip(filtered_obs_date[max_idx[0]], filtered_only_temperature[max_idx[0]]):\n",
    "    print(d.replace(\"\\t\", \"\").replace(\"\\\"\", \"\"), t)\n"
   ]
  },
  {
   "cell_type": "code",
   "execution_count": 93,
   "metadata": {},
   "outputs": [
    {
     "data": {
      "text/plain": [
       "(array(['날짜', '지점', '평균기온(℃)', '최저기온(℃)', '최고기온(℃)'], dtype='<U13'), 4)"
      ]
     },
     "execution_count": 93,
     "metadata": {},
     "output_type": "execute_result"
    }
   ],
   "source": [
    "len(only_temperature), sum(boolean_indexer) # True : 1, False : 0\n",
    "filtered_only_temperature[:5]\n",
    "titles, col_idx"
   ]
  }
 ],
 "metadata": {
  "kernelspec": {
   "display_name": "kdt-da",
   "language": "python",
   "name": "python3"
  },
  "language_info": {
   "codemirror_mode": {
    "name": "ipython",
    "version": 3
   },
   "file_extension": ".py",
   "mimetype": "text/x-python",
   "name": "python",
   "nbconvert_exporter": "python",
   "pygments_lexer": "ipython3",
   "version": "3.9.16"
  },
  "orig_nbformat": 4
 },
 "nbformat": 4,
 "nbformat_minor": 2
}
