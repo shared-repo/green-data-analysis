{
 "cells": [
  {
   "cell_type": "code",
   "execution_count": null,
   "metadata": {},
   "outputs": [],
   "source": [
    "# 유임 승차비율이 가장 높은 역을 찾으세요 + 이용고객이 가장 많은 역을 찾으세요\n",
    "\n",
    "# 유임 승차 비율 컬럼을 추가 -> 비교 검색"
   ]
  },
  {
   "cell_type": "code",
   "execution_count": 16,
   "metadata": {},
   "outputs": [],
   "source": [
    "import csv\n",
    "\n",
    "with open('data-files/subwayfee.csv', 'rt', encoding=\"utf-8\") as f:\n",
    "    subwayfee_reader = csv.reader(f)\n",
    "\n",
    "    titles = next(subwayfee_reader)\n",
    "    titles = titles[1:-1] + ['유임승차비율', \"승차고객\", \"하차고객\", \"총고객\"]\n",
    "\n",
    "    subwayfee = []\n",
    "    for row in subwayfee_reader:\n",
    "        filtered_row = row[1:-1] # 첫 번째 컬럼과 마지막 컬럼 제거\n",
    "        filtered_row[3:] = map(lambda v: int(v.replace(\",\", \"\")), filtered_row[3:])\n",
    "        paid_ratio = filtered_row[3] / (filtered_row[3] + filtered_row[5])\n",
    "        filtered_row.append( paid_ratio if filtered_row[3] >= 10000 else 0 ) # 유임승차비율 추가\n",
    "        filtered_row.append(filtered_row[3] + filtered_row[5]) # 승차 인원 추가\n",
    "        filtered_row.append(filtered_row[4] + filtered_row[6]) # 하차 인원 추가\n",
    "        filtered_row.append(sum(filtered_row[3:7])) # 총 인원 추가\n",
    "        subwayfee.append(filtered_row)"
   ]
  },
  {
   "cell_type": "code",
   "execution_count": 14,
   "metadata": {},
   "outputs": [
    {
     "name": "stdout",
     "output_type": "stream",
     "text": [
      "[15, 6, 22, 11, 4, 31, 29]\n",
      "[31, 29, 22, 15, 11, 6, 4]\n",
      "[[6, 32], [15, 4], [22, 19]]\n",
      "[[15, 4], [22, 19], [6, 32]]\n"
     ]
    }
   ],
   "source": [
    "# 단일 값 리스트 정렬 코드 테스트\n",
    "numbers = [15, 6, 22, 11, 4, 31, 29]\n",
    "print(numbers)\n",
    "numbers.sort(reverse=True)\n",
    "print(numbers)\n",
    "\n",
    "# 복합 값 리스트 정렬 코드 테스트\n",
    "numbers2 = [[15, 4], [6, 32], [22, 19]]\n",
    "numbers2.sort()\n",
    "print(numbers2)\n",
    "numbers2.sort(key=lambda v: v[1]) # 각 복합 값의 1번째 데이터를 기준으로 정렬\n",
    "print(numbers2)"
   ]
  },
  {
   "cell_type": "code",
   "execution_count": 18,
   "metadata": {},
   "outputs": [
    {
     "name": "stdout",
     "output_type": "stream",
     "text": [
      "[['공항철도 1호선', '4203', '홍대입구', 371643, 370878, 17770, 16276, 0.954367214242976, 389413, 387154, 776567], ['2호선', '0239', '홍대입구', 1826125, 1942785, 90954, 87709, 0.9525559457904448, 1917079, 2030494, 3947573], ['경부선', '1001', '서울역', 256846, 75524, 13548, 2968, 0.9498953379143028, 270394, 78492, 348886], ['공항철도 1호선', '4206', '마곡나루(서울식물원)', 253684, 245482, 14782, 15533, 0.9449390239359919, 268466, 261015, 529481], ['6호선', '2632', '한강진', 259789, 302118, 15605, 15628, 0.9433357298997074, 275394, 317746, 593140]]\n",
      "['6호선', '2649', '신내', 2, 0, 1, 0, 0, 3, 0, 3]\n"
     ]
    }
   ],
   "source": [
    "subwayfee.sort(key=lambda v: v[7], reverse=True)\n",
    "print( subwayfee[0:5] )\n",
    "print( subwayfee[-1])"
   ]
  },
  {
   "cell_type": "code",
   "execution_count": 19,
   "metadata": {},
   "outputs": [],
   "source": [
    "filtered_subwayfee = filter(lambda row: row[7] > 0, subwayfee)"
   ]
  },
  {
   "cell_type": "code",
   "execution_count": 21,
   "metadata": {},
   "outputs": [
    {
     "data": {
      "text/plain": [
       "[['우이신설선',\n",
       "  '4707',\n",
       "  '삼양사거리',\n",
       "  34687,\n",
       "  34309,\n",
       "  33621,\n",
       "  34120,\n",
       "  0.5078028927797622,\n",
       "  68308,\n",
       "  68429,\n",
       "  136737],\n",
       " ['중앙선',\n",
       "  '1219',\n",
       "  '용문',\n",
       "  26624,\n",
       "  27255,\n",
       "  27936,\n",
       "  27947,\n",
       "  0.4879765395894428,\n",
       "  54560,\n",
       "  55202,\n",
       "  109762],\n",
       " ['1호선',\n",
       "  '0157',\n",
       "  '제기동',\n",
       "  220559,\n",
       "  212160,\n",
       "  259286,\n",
       "  277782,\n",
       "  0.45964634413195926,\n",
       "  479845,\n",
       "  489942,\n",
       "  969787],\n",
       " ['1호선',\n",
       "  '0159',\n",
       "  '동묘앞',\n",
       "  122760,\n",
       "  130605,\n",
       "  146547,\n",
       "  149164,\n",
       "  0.4558366473949805,\n",
       "  269307,\n",
       "  279769,\n",
       "  549076],\n",
       " ['경원선',\n",
       "  '1916',\n",
       "  '소요산',\n",
       "  29466,\n",
       "  23236,\n",
       "  46961,\n",
       "  43019,\n",
       "  0.38554437567875227,\n",
       "  76427,\n",
       "  66255,\n",
       "  142682]]"
      ]
     },
     "execution_count": 21,
     "metadata": {},
     "output_type": "execute_result"
    }
   ],
   "source": [
    "list(filtered_subwayfee)[-5:]"
   ]
  },
  {
   "cell_type": "code",
   "execution_count": 23,
   "metadata": {},
   "outputs": [],
   "source": [
    "# 총고객 기준 내림차순 정렬\n",
    "subwayfee.sort(key=lambda row: row[-1], reverse=True)"
   ]
  },
  {
   "cell_type": "code",
   "execution_count": 26,
   "metadata": {},
   "outputs": [
    {
     "data": {
      "text/plain": [
       "[('강남', 4467590),\n",
       " ('잠실(송파구청)', 4374772),\n",
       " ('홍대입구', 3947573),\n",
       " ('구로디지털단지', 3137894),\n",
       " ('신림', 3068158),\n",
       " ('삼성(무역센터)', 2953408),\n",
       " ('역삼', 2865288),\n",
       " ('서울역', 2818813),\n",
       " ('신도림', 2754760),\n",
       " ('선릉', 2752869)]"
      ]
     },
     "execution_count": 26,
     "metadata": {},
     "output_type": "execute_result"
    }
   ],
   "source": [
    "[ (row[2], row[-1]) for row in subwayfee[:10] ]"
   ]
  },
  {
   "cell_type": "code",
   "execution_count": 28,
   "metadata": {},
   "outputs": [
    {
     "data": {
      "text/plain": [
       "[('경의선', '운천', 271),\n",
       " ('3호선', '충무로', 48),\n",
       " ('6호선', '연신내', 28),\n",
       " ('분당선', '복정', 22),\n",
       " ('일산선', '지축', 15),\n",
       " ('경원선', '창동', 9),\n",
       " ('6호선', '신내', 3),\n",
       " ('경의선', '김포공항', 2),\n",
       " ('경의선', '계양', 2),\n",
       " ('경의선', '검암', 2)]"
      ]
     },
     "execution_count": 28,
     "metadata": {},
     "output_type": "execute_result"
    }
   ],
   "source": [
    "[ (row[0], row[2], row[-1]) for row in subwayfee[-10:] ]"
   ]
  },
  {
   "cell_type": "code",
   "execution_count": null,
   "metadata": {},
   "outputs": [],
   "source": []
  },
  {
   "cell_type": "code",
   "execution_count": 29,
   "metadata": {},
   "outputs": [],
   "source": [
    "# 전처리 -> 데이터 구성\n",
    "# 1. 년-월 컬럼, 처리일자 컬럼 제거\n",
    "# 2. 숫자변환\n",
    "import csv \n",
    "\n",
    "with open(\"data-files/subwaytime.csv\", \"rt\", encoding=\"utf-8\") as f:\n",
    "    time_reader = csv.reader(f)\n",
    "\n",
    "    # [ [], [], ... ]\n",
    "    time_data = []\n",
    "    for row in time_reader:\n",
    "        r = row[1:4] + [ int(v.replace(\",\", \"\")) for v in row[4:-1] ]\n",
    "        time_data.append(r)"
   ]
  },
  {
   "cell_type": "code",
   "execution_count": 30,
   "metadata": {},
   "outputs": [
    {
     "data": {
      "text/plain": [
       "[['1호선',\n",
       "  '0150',\n",
       "  '서울역',\n",
       "  543,\n",
       "  26,\n",
       "  7202,\n",
       "  7719,\n",
       "  11072,\n",
       "  45251,\n",
       "  35896,\n",
       "  97034,\n",
       "  66013,\n",
       "  211077,\n",
       "  57146,\n",
       "  142919,\n",
       "  57504,\n",
       "  73985,\n",
       "  74479,\n",
       "  67303,\n",
       "  81531,\n",
       "  76061,\n",
       "  79480,\n",
       "  75227,\n",
       "  67535,\n",
       "  67570,\n",
       "  90100,\n",
       "  74241,\n",
       "  105815,\n",
       "  75866,\n",
       "  156895,\n",
       "  88327,\n",
       "  206509,\n",
       "  91428,\n",
       "  107347,\n",
       "  63689,\n",
       "  76674,\n",
       "  44161,\n",
       "  78852,\n",
       "  36978,\n",
       "  52229,\n",
       "  25380,\n",
       "  23492,\n",
       "  12995,\n",
       "  2267,\n",
       "  2824,\n",
       "  1,\n",
       "  170,\n",
       "  0,\n",
       "  0,\n",
       "  0,\n",
       "  0],\n",
       " ['1호선',\n",
       "  '0151',\n",
       "  '시청',\n",
       "  112,\n",
       "  2,\n",
       "  2179,\n",
       "  3867,\n",
       "  3307,\n",
       "  20185,\n",
       "  6670,\n",
       "  64643,\n",
       "  8493,\n",
       "  186762,\n",
       "  10256,\n",
       "  82473,\n",
       "  12755,\n",
       "  38379,\n",
       "  18481,\n",
       "  39305,\n",
       "  20123,\n",
       "  36461,\n",
       "  24815,\n",
       "  35942,\n",
       "  32522,\n",
       "  32310,\n",
       "  42777,\n",
       "  29000,\n",
       "  52961,\n",
       "  26321,\n",
       "  86342,\n",
       "  26233,\n",
       "  157030,\n",
       "  24378,\n",
       "  60313,\n",
       "  12328,\n",
       "  49946,\n",
       "  7611,\n",
       "  45664,\n",
       "  6932,\n",
       "  28972,\n",
       "  5173,\n",
       "  9628,\n",
       "  3361,\n",
       "  296,\n",
       "  872,\n",
       "  1,\n",
       "  6,\n",
       "  0,\n",
       "  0,\n",
       "  0,\n",
       "  0],\n",
       " ['1호선',\n",
       "  '0152',\n",
       "  '종각',\n",
       "  82,\n",
       "  4,\n",
       "  3078,\n",
       "  4724,\n",
       "  3733,\n",
       "  24630,\n",
       "  5417,\n",
       "  101547,\n",
       "  8981,\n",
       "  256660,\n",
       "  10967,\n",
       "  140486,\n",
       "  15736,\n",
       "  60775,\n",
       "  24374,\n",
       "  61315,\n",
       "  30699,\n",
       "  55680,\n",
       "  40587,\n",
       "  52367,\n",
       "  49979,\n",
       "  43594,\n",
       "  64651,\n",
       "  39009,\n",
       "  77911,\n",
       "  40025,\n",
       "  139537,\n",
       "  45379,\n",
       "  216150,\n",
       "  49100,\n",
       "  95000,\n",
       "  24491,\n",
       "  81194,\n",
       "  11289,\n",
       "  86633,\n",
       "  7813,\n",
       "  66982,\n",
       "  5397,\n",
       "  29476,\n",
       "  3597,\n",
       "  1071,\n",
       "  624,\n",
       "  0,\n",
       "  0,\n",
       "  0,\n",
       "  0,\n",
       "  0,\n",
       "  0]]"
      ]
     },
     "execution_count": 30,
     "metadata": {},
     "output_type": "execute_result"
    }
   ],
   "source": [
    "time_data[:3]"
   ]
  },
  {
   "cell_type": "code",
   "execution_count": null,
   "metadata": {},
   "outputs": [],
   "source": [
    "# 문제 1. 출근 시간대(7 ~ 9) 이용 고객이 많은 역\n",
    "\n",
    "# 문제 2. 23시 이용 고객이 많은 역\n",
    "\n",
    "# 문제 3. 시간대별로 승차인원이 가장 많은 역과 하차 인원이 가장 많은 역\n",
    "\n",
    "# 문제 4. 시간대별 전체 이용고객 수"
   ]
  }
 ],
 "metadata": {
  "kernelspec": {
   "display_name": "kdt-da",
   "language": "python",
   "name": "python3"
  },
  "language_info": {
   "codemirror_mode": {
    "name": "ipython",
    "version": 3
   },
   "file_extension": ".py",
   "mimetype": "text/x-python",
   "name": "python",
   "nbconvert_exporter": "python",
   "pygments_lexer": "ipython3",
   "version": "3.9.16"
  },
  "orig_nbformat": 4
 },
 "nbformat": 4,
 "nbformat_minor": 2
}
