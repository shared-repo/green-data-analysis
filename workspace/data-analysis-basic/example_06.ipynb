{
 "cells": [
  {
   "cell_type": "code",
   "execution_count": null,
   "metadata": {},
   "outputs": [],
   "source": [
    "# 유임 승차비율이 가장 높은 역을 찾으세요 + 이용고객이 가장 많은 역을 찾으세요\n",
    "\n",
    "# 유임 승차 비율 컬럼을 추가 -> 비교 검색"
   ]
  },
  {
   "cell_type": "code",
   "execution_count": 16,
   "metadata": {},
   "outputs": [],
   "source": [
    "import csv\n",
    "\n",
    "with open('data-files/subwayfee.csv', 'rt', encoding=\"utf-8\") as f:\n",
    "    subwayfee_reader = csv.reader(f)\n",
    "\n",
    "    titles = next(subwayfee_reader)\n",
    "    titles = titles[1:-1] + ['유임승차비율', \"승차고객\", \"하차고객\", \"총고객\"]\n",
    "\n",
    "    subwayfee = []\n",
    "    for row in subwayfee_reader:\n",
    "        filtered_row = row[1:-1] # 첫 번째 컬럼과 마지막 컬럼 제거\n",
    "        filtered_row[3:] = map(lambda v: int(v.replace(\",\", \"\")), filtered_row[3:])\n",
    "        paid_ratio = filtered_row[3] / (filtered_row[3] + filtered_row[5])\n",
    "        filtered_row.append( paid_ratio if filtered_row[3] >= 10000 else 0 ) # 유임승차비율 추가\n",
    "        filtered_row.append(filtered_row[3] + filtered_row[5]) # 승차 인원 추가\n",
    "        filtered_row.append(filtered_row[4] + filtered_row[6]) # 하차 인원 추가\n",
    "        filtered_row.append(sum(filtered_row[3:7])) # 총 인원 추가\n",
    "        subwayfee.append(filtered_row)"
   ]
  },
  {
   "cell_type": "code",
   "execution_count": 14,
   "metadata": {},
   "outputs": [
    {
     "name": "stdout",
     "output_type": "stream",
     "text": [
      "[15, 6, 22, 11, 4, 31, 29]\n",
      "[31, 29, 22, 15, 11, 6, 4]\n",
      "[[6, 32], [15, 4], [22, 19]]\n",
      "[[15, 4], [22, 19], [6, 32]]\n"
     ]
    }
   ],
   "source": [
    "# 단일 값 리스트 정렬 코드 테스트\n",
    "numbers = [15, 6, 22, 11, 4, 31, 29]\n",
    "print(numbers)\n",
    "numbers.sort(reverse=True)\n",
    "print(numbers)\n",
    "\n",
    "# 복합 값 리스트 정렬 코드 테스트\n",
    "numbers2 = [[15, 4], [6, 32], [22, 19]]\n",
    "numbers2.sort()\n",
    "print(numbers2)\n",
    "numbers2.sort(key=lambda v: v[1]) # 각 복합 값의 1번째 데이터를 기준으로 정렬\n",
    "print(numbers2)"
   ]
  },
  {
   "cell_type": "code",
   "execution_count": 18,
   "metadata": {},
   "outputs": [
    {
     "name": "stdout",
     "output_type": "stream",
     "text": [
      "[['공항철도 1호선', '4203', '홍대입구', 371643, 370878, 17770, 16276, 0.954367214242976, 389413, 387154, 776567], ['2호선', '0239', '홍대입구', 1826125, 1942785, 90954, 87709, 0.9525559457904448, 1917079, 2030494, 3947573], ['경부선', '1001', '서울역', 256846, 75524, 13548, 2968, 0.9498953379143028, 270394, 78492, 348886], ['공항철도 1호선', '4206', '마곡나루(서울식물원)', 253684, 245482, 14782, 15533, 0.9449390239359919, 268466, 261015, 529481], ['6호선', '2632', '한강진', 259789, 302118, 15605, 15628, 0.9433357298997074, 275394, 317746, 593140]]\n",
      "['6호선', '2649', '신내', 2, 0, 1, 0, 0, 3, 0, 3]\n"
     ]
    }
   ],
   "source": [
    "subwayfee.sort(key=lambda v: v[7], reverse=True)\n",
    "print( subwayfee[0:5] )\n",
    "print( subwayfee[-1])\n"
   ]
  },
  {
   "cell_type": "code",
   "execution_count": 10,
   "metadata": {},
   "outputs": [
    {
     "data": {
      "text/plain": [
       "[['1호선',\n",
       "  '0150',\n",
       "  '서울역',\n",
       "  1249188,\n",
       "  1200852,\n",
       "  189394,\n",
       "  179379,\n",
       "  0.8683467470050369,\n",
       "  1438582,\n",
       "  1380231,\n",
       "  2818813],\n",
       " ['1호선',\n",
       "  '0151',\n",
       "  '시청',\n",
       "  586202,\n",
       "  598377,\n",
       "  87441,\n",
       "  84167,\n",
       "  0.870196825321424,\n",
       "  673643,\n",
       "  682544,\n",
       "  1356187],\n",
       " ['1호선',\n",
       "  '0152',\n",
       "  '종각',\n",
       "  916978,\n",
       "  900438,\n",
       "  135260,\n",
       "  128068,\n",
       "  0.8714549370009447,\n",
       "  1052238,\n",
       "  1028506,\n",
       "  2080744],\n",
       " ['1호선',\n",
       "  '0153',\n",
       "  '종로3가',\n",
       "  463092,\n",
       "  422317,\n",
       "  296614,\n",
       "  274619,\n",
       "  0.6095673852779891,\n",
       "  759706,\n",
       "  696936,\n",
       "  1456642],\n",
       " ['1호선',\n",
       "  '0154',\n",
       "  '종로5가',\n",
       "  440520,\n",
       "  440031,\n",
       "  238125,\n",
       "  229346,\n",
       "  0.6491169904736644,\n",
       "  678645,\n",
       "  669377,\n",
       "  1348022]]"
      ]
     },
     "execution_count": 10,
     "metadata": {},
     "output_type": "execute_result"
    }
   ],
   "source": [
    "subwayfee[:5]"
   ]
  }
 ],
 "metadata": {
  "kernelspec": {
   "display_name": "kdt-da",
   "language": "python",
   "name": "python3"
  },
  "language_info": {
   "codemirror_mode": {
    "name": "ipython",
    "version": 3
   },
   "file_extension": ".py",
   "mimetype": "text/x-python",
   "name": "python",
   "nbconvert_exporter": "python",
   "pygments_lexer": "ipython3",
   "version": "3.9.16"
  },
  "orig_nbformat": 4
 },
 "nbformat": 4,
 "nbformat_minor": 2
}
