{
 "cells": [
  {
   "cell_type": "code",
   "execution_count": null,
   "metadata": {},
   "outputs": [],
   "source": [
    "# 유임 승차비율이 가장 높은 역을 찾으세요 + 이용고객이 가장 많은 역을 찾으세요\n",
    "\n",
    "# 유임 승차 비율 컬럼을 추가 -> 비교 검색"
   ]
  },
  {
   "cell_type": "code",
   "execution_count": 16,
   "metadata": {},
   "outputs": [],
   "source": [
    "import csv\n",
    "\n",
    "with open('data-files/subwayfee.csv', 'rt', encoding=\"utf-8\") as f:\n",
    "    subwayfee_reader = csv.reader(f)\n",
    "\n",
    "    titles = next(subwayfee_reader)\n",
    "    titles = titles[1:-1] + ['유임승차비율', \"승차고객\", \"하차고객\", \"총고객\"]\n",
    "\n",
    "    subwayfee = []\n",
    "    for row in subwayfee_reader:\n",
    "        filtered_row = row[1:-1] # 첫 번째 컬럼과 마지막 컬럼 제거\n",
    "        filtered_row[3:] = map(lambda v: int(v.replace(\",\", \"\")), filtered_row[3:])\n",
    "        paid_ratio = filtered_row[3] / (filtered_row[3] + filtered_row[5])\n",
    "        filtered_row.append( paid_ratio if filtered_row[3] >= 10000 else 0 ) # 유임승차비율 추가\n",
    "        filtered_row.append(filtered_row[3] + filtered_row[5]) # 승차 인원 추가\n",
    "        filtered_row.append(filtered_row[4] + filtered_row[6]) # 하차 인원 추가\n",
    "        filtered_row.append(sum(filtered_row[3:7])) # 총 인원 추가\n",
    "        subwayfee.append(filtered_row)"
   ]
  },
  {
   "cell_type": "code",
   "execution_count": 14,
   "metadata": {},
   "outputs": [
    {
     "name": "stdout",
     "output_type": "stream",
     "text": [
      "[15, 6, 22, 11, 4, 31, 29]\n",
      "[31, 29, 22, 15, 11, 6, 4]\n",
      "[[6, 32], [15, 4], [22, 19]]\n",
      "[[15, 4], [22, 19], [6, 32]]\n"
     ]
    }
   ],
   "source": [
    "# 단일 값 리스트 정렬 코드 테스트\n",
    "numbers = [15, 6, 22, 11, 4, 31, 29]\n",
    "print(numbers)\n",
    "numbers.sort(reverse=True)\n",
    "print(numbers)\n",
    "\n",
    "# 복합 값 리스트 정렬 코드 테스트\n",
    "numbers2 = [[15, 4], [6, 32], [22, 19]]\n",
    "numbers2.sort()\n",
    "print(numbers2)\n",
    "numbers2.sort(key=lambda v: v[1]) # 각 복합 값의 1번째 데이터를 기준으로 정렬\n",
    "print(numbers2)"
   ]
  },
  {
   "cell_type": "code",
   "execution_count": 18,
   "metadata": {},
   "outputs": [
    {
     "name": "stdout",
     "output_type": "stream",
     "text": [
      "[['공항철도 1호선', '4203', '홍대입구', 371643, 370878, 17770, 16276, 0.954367214242976, 389413, 387154, 776567], ['2호선', '0239', '홍대입구', 1826125, 1942785, 90954, 87709, 0.9525559457904448, 1917079, 2030494, 3947573], ['경부선', '1001', '서울역', 256846, 75524, 13548, 2968, 0.9498953379143028, 270394, 78492, 348886], ['공항철도 1호선', '4206', '마곡나루(서울식물원)', 253684, 245482, 14782, 15533, 0.9449390239359919, 268466, 261015, 529481], ['6호선', '2632', '한강진', 259789, 302118, 15605, 15628, 0.9433357298997074, 275394, 317746, 593140]]\n",
      "['6호선', '2649', '신내', 2, 0, 1, 0, 0, 3, 0, 3]\n"
     ]
    }
   ],
   "source": [
    "subwayfee.sort(key=lambda v: v[7], reverse=True)\n",
    "print( subwayfee[0:5] )\n",
    "print( subwayfee[-1])"
   ]
  },
  {
   "cell_type": "code",
   "execution_count": 19,
   "metadata": {},
   "outputs": [],
   "source": [
    "filtered_subwayfee = filter(lambda row: row[7] > 0, subwayfee)"
   ]
  },
  {
   "cell_type": "code",
   "execution_count": 21,
   "metadata": {},
   "outputs": [
    {
     "data": {
      "text/plain": [
       "[['우이신설선',\n",
       "  '4707',\n",
       "  '삼양사거리',\n",
       "  34687,\n",
       "  34309,\n",
       "  33621,\n",
       "  34120,\n",
       "  0.5078028927797622,\n",
       "  68308,\n",
       "  68429,\n",
       "  136737],\n",
       " ['중앙선',\n",
       "  '1219',\n",
       "  '용문',\n",
       "  26624,\n",
       "  27255,\n",
       "  27936,\n",
       "  27947,\n",
       "  0.4879765395894428,\n",
       "  54560,\n",
       "  55202,\n",
       "  109762],\n",
       " ['1호선',\n",
       "  '0157',\n",
       "  '제기동',\n",
       "  220559,\n",
       "  212160,\n",
       "  259286,\n",
       "  277782,\n",
       "  0.45964634413195926,\n",
       "  479845,\n",
       "  489942,\n",
       "  969787],\n",
       " ['1호선',\n",
       "  '0159',\n",
       "  '동묘앞',\n",
       "  122760,\n",
       "  130605,\n",
       "  146547,\n",
       "  149164,\n",
       "  0.4558366473949805,\n",
       "  269307,\n",
       "  279769,\n",
       "  549076],\n",
       " ['경원선',\n",
       "  '1916',\n",
       "  '소요산',\n",
       "  29466,\n",
       "  23236,\n",
       "  46961,\n",
       "  43019,\n",
       "  0.38554437567875227,\n",
       "  76427,\n",
       "  66255,\n",
       "  142682]]"
      ]
     },
     "execution_count": 21,
     "metadata": {},
     "output_type": "execute_result"
    }
   ],
   "source": [
    "list(filtered_subwayfee)[-5:]"
   ]
  },
  {
   "cell_type": "code",
   "execution_count": 23,
   "metadata": {},
   "outputs": [],
   "source": [
    "# 총고객 기준 내림차순 정렬\n",
    "subwayfee.sort(key=lambda row: row[-1], reverse=True)"
   ]
  },
  {
   "cell_type": "code",
   "execution_count": 26,
   "metadata": {},
   "outputs": [
    {
     "data": {
      "text/plain": [
       "[('강남', 4467590),\n",
       " ('잠실(송파구청)', 4374772),\n",
       " ('홍대입구', 3947573),\n",
       " ('구로디지털단지', 3137894),\n",
       " ('신림', 3068158),\n",
       " ('삼성(무역센터)', 2953408),\n",
       " ('역삼', 2865288),\n",
       " ('서울역', 2818813),\n",
       " ('신도림', 2754760),\n",
       " ('선릉', 2752869)]"
      ]
     },
     "execution_count": 26,
     "metadata": {},
     "output_type": "execute_result"
    }
   ],
   "source": [
    "[ (row[2], row[-1]) for row in subwayfee[:10] ]"
   ]
  },
  {
   "cell_type": "code",
   "execution_count": 28,
   "metadata": {},
   "outputs": [
    {
     "data": {
      "text/plain": [
       "[('경의선', '운천', 271),\n",
       " ('3호선', '충무로', 48),\n",
       " ('6호선', '연신내', 28),\n",
       " ('분당선', '복정', 22),\n",
       " ('일산선', '지축', 15),\n",
       " ('경원선', '창동', 9),\n",
       " ('6호선', '신내', 3),\n",
       " ('경의선', '김포공항', 2),\n",
       " ('경의선', '계양', 2),\n",
       " ('경의선', '검암', 2)]"
      ]
     },
     "execution_count": 28,
     "metadata": {},
     "output_type": "execute_result"
    }
   ],
   "source": [
    "[ (row[0], row[2], row[-1]) for row in subwayfee[-10:] ]"
   ]
  },
  {
   "cell_type": "code",
   "execution_count": null,
   "metadata": {},
   "outputs": [],
   "source": []
  },
  {
   "cell_type": "code",
   "execution_count": 31,
   "metadata": {},
   "outputs": [],
   "source": [
    "# 전처리 -> 데이터 구성\n",
    "# 1. 년-월 컬럼, 처리일자 컬럼 제거\n",
    "# 2. 숫자변환\n",
    "import csv \n",
    "\n",
    "with open(\"data-files/subwaytime.csv\", \"rt\", encoding=\"utf-8\") as f:\n",
    "    time_reader = csv.reader(f)\n",
    "\n",
    "    # [ [], [], ... ]\n",
    "    time_data = []\n",
    "    for row in time_reader:\n",
    "        r = row[1:4] + [ int(v.replace(\",\", \"\")) for v in row[4:-1] ]\n",
    "        time_data.append(r)"
   ]
  },
  {
   "cell_type": "code",
   "execution_count": null,
   "metadata": {},
   "outputs": [],
   "source": [
    "# 문제 1. 출근 시간대(7 ~ 9) 이용 고객이 많은 역\n",
    "\n",
    "# 문제 2. 23시 이용 고객이 많은 역\n",
    "\n",
    "# 문제 3. 시간대별로 승차인원이 가장 많은 역과 하차 인원이 가장 많은 역\n",
    "\n",
    "# 문제 4. 시간대별 전체 이용고객 수"
   ]
  },
  {
   "cell_type": "code",
   "execution_count": 33,
   "metadata": {},
   "outputs": [],
   "source": [
    "# 문제 1. 출근 시간대(7 ~ 9) 이용 고객이 많은 역\n",
    "# 3 - 04시 \n",
    "# 5 - 05시\n",
    "# 7 - 06시\n",
    "# 9 - 07시\n",
    "\n",
    "name_count = []\n",
    "for row in time_data:\n",
    "    cnt = sum(row[9:9+4])\n",
    "    name_count.append( (row[2], cnt) )"
   ]
  },
  {
   "cell_type": "code",
   "execution_count": 36,
   "metadata": {},
   "outputs": [
    {
     "data": {
      "text/plain": [
       "[('구로디지털단지', 607031),\n",
       " ('역삼', 538804),\n",
       " ('가산디지털단지', 531283),\n",
       " ('강남', 520192),\n",
       " ('잠실(송파구청)', 519604),\n",
       " ('신림', 493913),\n",
       " ('삼성(무역센터)', 488819),\n",
       " ('을지로입구', 468517),\n",
       " ('선릉', 424500),\n",
       " ('서울역', 410020)]"
      ]
     },
     "execution_count": 36,
     "metadata": {},
     "output_type": "execute_result"
    }
   ],
   "source": [
    "name_count.sort(key=lambda v: v[1], reverse=True)\n",
    "name_count[:10]"
   ]
  },
  {
   "cell_type": "code",
   "execution_count": 37,
   "metadata": {},
   "outputs": [],
   "source": [
    "# 문제 2. 23시 이용 고객이 많은 역\n",
    "from_hour = 23\n",
    "start_idx = (from_hour - 3) * 2 + 1\n",
    "name_count2 = []\n",
    "for row in time_data:\n",
    "    cnt = sum(row[start_idx:start_idx + 1 * 2])\n",
    "    name_count2.append( (row[2], cnt) )"
   ]
  },
  {
   "cell_type": "code",
   "execution_count": 38,
   "metadata": {},
   "outputs": [
    {
     "data": {
      "text/plain": [
       "[('홍대입구', 134254),\n",
       " ('강남', 108357),\n",
       " ('신림', 92537),\n",
       " ('건대입구', 77820),\n",
       " ('잠실(송파구청)', 75387),\n",
       " ('사당', 72952),\n",
       " ('신도림', 70498),\n",
       " ('서울대입구(관악구청)', 67884),\n",
       " ('구로디지털단지', 67719),\n",
       " ('합정', 56316)]"
      ]
     },
     "execution_count": 38,
     "metadata": {},
     "output_type": "execute_result"
    }
   ],
   "source": [
    "name_count2.sort(key=lambda v: v[1], reverse=True)\n",
    "name_count2[:10]"
   ]
  },
  {
   "cell_type": "code",
   "execution_count": 43,
   "metadata": {},
   "outputs": [],
   "source": [
    "# 문제 3. 시간대별로 승차인원이 가장 많은 역과 하차 인원이 가장 많은 역\n",
    "\n",
    "max_cnt_by_hour = {} # { \"시간\" : (max_in, max_out) }\n",
    "for hour in range(0, 24):\n",
    "    target_hour = hour + 24 if hour < 4 else hour # 4시 이전 시간 변경 (0 -> 24, 1 -> 25, 2 -> 26, ...)\n",
    "    hour_idx = target_hour * 2 - 5\n",
    "    max_in = [\"\", 0]\n",
    "    max_out = [\"\", 0]\n",
    "    for row in time_data:\n",
    "        in_cnt = row[hour_idx]\n",
    "        out_cnt = row[hour_idx + 1]\n",
    "        if max_in[1] < in_cnt:\n",
    "            max_in[1] = in_cnt # 숫자\n",
    "            max_in[0] = row[2] # 역이름\n",
    "        if max_out[1] < out_cnt:\n",
    "            max_out[1] = out_cnt\n",
    "            max_out[0] = row[2]\n",
    "    max_cnt_by_hour[hour] = (max_in, max_out)"
   ]
  },
  {
   "cell_type": "code",
   "execution_count": 44,
   "metadata": {},
   "outputs": [
    {
     "data": {
      "text/plain": [
       "{0: (['강남', 14660], ['신림', 21346]),\n",
       " 1: (['건대입구', 6], ['서울대입구(관악구청)', 2953]),\n",
       " 2: (['홍대입구', 1], ['교대(법원.검찰청)', 2]),\n",
       " 3: (['', 0], ['', 0]),\n",
       " 4: (['구로', 10261], ['영등포', 117]),\n",
       " 5: (['부천', 34604], ['평택지제', 11807]),\n",
       " 6: (['신림', 63021], ['강남', 48336]),\n",
       " 7: (['신림', 173198], ['역삼', 141765]),\n",
       " 8: (['신림', 257903], ['가산디지털단지', 368644]),\n",
       " 9: (['신림', 158972], ['강남', 303328]),\n",
       " 10: (['신림', 86461], ['강남', 150366]),\n",
       " 11: (['잠실(송파구청)', 80519], ['잠실(송파구청)', 119447]),\n",
       " 12: (['잠실(송파구청)', 89725], ['홍대입구', 142057]),\n",
       " 13: (['강남', 101006], ['홍대입구', 153764]),\n",
       " 14: (['강남', 111987], ['홍대입구', 147377]),\n",
       " 15: (['강남', 138053], ['홍대입구', 149014]),\n",
       " 16: (['강남', 162058], ['홍대입구', 152249]),\n",
       " 17: (['강남', 236104], ['홍대입구', 178119]),\n",
       " 18: (['삼성(무역센터)', 307149], ['잠실(송파구청)', 225214]),\n",
       " 19: (['강남', 207605], ['신림', 200737]),\n",
       " 20: (['잠실(송파구청)', 176375], ['신림', 120983]),\n",
       " 21: (['강남', 189032], ['신림', 112653]),\n",
       " 22: (['강남', 176734], ['신림', 106614]),\n",
       " 23: (['홍대입구', 93479], ['신림', 68806])}"
      ]
     },
     "execution_count": 44,
     "metadata": {},
     "output_type": "execute_result"
    }
   ],
   "source": [
    "max_cnt_by_hour"
   ]
  },
  {
   "cell_type": "code",
   "execution_count": 47,
   "metadata": {},
   "outputs": [],
   "source": [
    "def ordered_cnt_by_hour(hour, order='in', reverse=False):\n",
    "    target_hour = hour + 24 if hour < 4 else hour\n",
    "    hour_idx = target_hour * 2 - 5\n",
    "\n",
    "    result = [ (row[2], row[hour_idx if order == 'in' else hour_idx + 1] ) for row in time_data ]\n",
    "    result.sort(key=lambda v: v[1], reverse=reverse)\n",
    "\n",
    "    return result"
   ]
  },
  {
   "cell_type": "code",
   "execution_count": 52,
   "metadata": {},
   "outputs": [
    {
     "data": {
      "text/plain": [
       "(('강남', 101006), ('홍대입구', 153764))"
      ]
     },
     "execution_count": 52,
     "metadata": {},
     "output_type": "execute_result"
    }
   ],
   "source": [
    "ordered_cnt_by_hour(13, 'in', True)[0], ordered_cnt_by_hour(13, 'out', True)[0]"
   ]
  },
  {
   "cell_type": "code",
   "execution_count": 56,
   "metadata": {},
   "outputs": [],
   "source": [
    "# 문제 4. 시간대별 전체 이용고객 수\n",
    "# 0 : \n",
    "# 1 : \n",
    "# ...\n",
    "# 23:\n",
    "cnt_per_hour = {}  # { 0: 1, 1: 1, 2:4, ... }\n",
    "for hour in range(0, 24):\n",
    "    target_hour = hour + 24 if hour < 4 else hour\n",
    "    hour_idx = target_hour * 2 - 5\n",
    "\n",
    "    cnt = 0\n",
    "    for row in time_data:\n",
    "        cnt += row[hour_idx]\n",
    "\n",
    "    cnt_per_hour[hour] = cnt"
   ]
  },
  {
   "cell_type": "code",
   "execution_count": 57,
   "metadata": {},
   "outputs": [
    {
     "data": {
      "text/plain": [
       "{0: 332099,\n",
       " 1: 173,\n",
       " 2: 7,\n",
       " 3: 0,\n",
       " 4: 115465,\n",
       " 5: 2769395,\n",
       " 6: 5727587,\n",
       " 7: 14358172,\n",
       " 8: 16762237,\n",
       " 9: 10583915,\n",
       " 10: 8135413,\n",
       " 11: 8248101,\n",
       " 12: 8992726,\n",
       " 13: 9206557,\n",
       " 14: 9295426,\n",
       " 15: 10326255,\n",
       " 16: 11923908,\n",
       " 17: 15894544,\n",
       " 18: 20077497,\n",
       " 19: 10454710,\n",
       " 20: 8253504,\n",
       " 21: 7613561,\n",
       " 22: 6019239,\n",
       " 23: 2586467}"
      ]
     },
     "execution_count": 57,
     "metadata": {},
     "output_type": "execute_result"
    }
   ],
   "source": [
    "cnt_per_hour"
   ]
  },
  {
   "cell_type": "code",
   "execution_count": 60,
   "metadata": {},
   "outputs": [
    {
     "data": {
      "text/plain": [
       "dict_keys([0, 1, 2, 3, 4, 5, 6, 7, 8, 9, 10, 11, 12, 13, 14, 15, 16, 17, 18, 19, 20, 21, 22, 23])"
      ]
     },
     "execution_count": 60,
     "metadata": {},
     "output_type": "execute_result"
    }
   ],
   "source": [
    "cnt_per_hour.values()"
   ]
  },
  {
   "cell_type": "code",
   "execution_count": 63,
   "metadata": {},
   "outputs": [
    {
     "data": {
      "image/png": "[encoded data removed]",
      "text/plain": [
       "<Figure size 640x480 with 1 Axes>"
      ]
     },
     "metadata": {},
     "output_type": "display_data"
    }
   ],
   "source": [
    "import matplotlib.pyplot as plt\n",
    "\n",
    "plt.plot(cnt_per_hour.values())\n",
    "plt.xticks(list(cnt_per_hour.keys()))\n",
    "plt.show()"
   ]
  }
 ],
 "metadata": {
  "kernelspec": {
   "display_name": "kdt-da",
   "language": "python",
   "name": "python3"
  },
  "language_info": {
   "codemirror_mode": {
    "name": "ipython",
    "version": 3
   },
   "file_extension": ".py",
   "mimetype": "text/x-python",
   "name": "python",
   "nbconvert_exporter": "python",
   "pygments_lexer": "ipython3",
   "version": "3.9.16"
  },
  "orig_nbformat": 4
 },
 "nbformat": 4,
 "nbformat_minor": 2
}
