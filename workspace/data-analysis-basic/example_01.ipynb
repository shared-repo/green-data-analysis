{
 "cells": [
  {
   "cell_type": "code",
   "execution_count": 22,
   "metadata": {},
   "outputs": [],
   "source": [
    "# csv 파일 읽기\n",
    "\n",
    "with open(\"data-files/seoul-temperature.csv\", \"rt\", encoding=\"utf-8\") as f:\n",
    "    rows = f.readlines()"
   ]
  },
  {
   "cell_type": "code",
   "execution_count": 23,
   "metadata": {},
   "outputs": [],
   "source": [
    "source_rows = rows.copy() # 원본 복사"
   ]
  },
  {
   "cell_type": "code",
   "execution_count": 24,
   "metadata": {},
   "outputs": [
    {
     "name": "stdout",
     "output_type": "stream",
     "text": [
      "41731\n",
      "날짜,지점,평균기온(℃),최저기온(℃),최고기온(℃)\n",
      "\n",
      "\"\t1907-10-01\",108,13.5,7.9,20.7\n",
      "\n",
      "\"\t2023-03-06\",108,9.2,2.2,16.5\n",
      "\n"
     ]
    }
   ],
   "source": [
    "# 파일 확인\n",
    "print( len(rows) )\n",
    "print( rows[0] ) # 첫 번째 행\n",
    "print( rows[1] ) # 두 번째 행\n",
    "print( rows[len(rows) - 1]) # 마지막 행"
   ]
  },
  {
   "cell_type": "code",
   "execution_count": 28,
   "metadata": {},
   "outputs": [],
   "source": [
    "# 불필요한 문자열 요소 제거\n",
    "rows2 = map(lambda row: row.replace(\"\\t\", \"\").replace(\"\\\"\", \"\").replace(\"\\n\", \"\"),  \n",
    "           rows)\n",
    "rows2 = list(rows2)"
   ]
  },
  {
   "cell_type": "code",
   "execution_count": 34,
   "metadata": {},
   "outputs": [
    {
     "name": "stdout",
     "output_type": "stream",
     "text": [
      "['날짜,지점,평균기온(℃),최저기온(℃),최고기온(℃)', '1907-10-01,108,13.5,7.9,20.7', '1907-10-02,108,16.2,7.9,22', '1907-10-03,108,16.2,13.1,21.3', '1907-10-04,108,16.5,11.2,22']\n"
     ]
    }
   ],
   "source": [
    "print(rows2[0:5])"
   ]
  },
  {
   "cell_type": "code",
   "execution_count": 36,
   "metadata": {},
   "outputs": [],
   "source": [
    "# 각 행을 ,기준으로 분리해서 list로 변경\n",
    "rows3 = map(lambda row: row.split(\",\"), rows2)\n",
    "rows3 = list(rows3)"
   ]
  },
  {
   "cell_type": "code",
   "execution_count": 38,
   "metadata": {},
   "outputs": [
    {
     "data": {
      "text/plain": [
       "[['날짜', '지점', '평균기온(℃)', '최저기온(℃)', '최고기온(℃)'],\n",
       " ['1907-10-01', '108', '13.5', '7.9', '20.7'],\n",
       " ['1907-10-02', '108', '16.2', '7.9', '22'],\n",
       " ['1907-10-03', '108', '16.2', '13.1', '21.3'],\n",
       " ['1907-10-04', '108', '16.5', '11.2', '22']]"
      ]
     },
     "execution_count": 38,
     "metadata": {},
     "output_type": "execute_result"
    }
   ],
   "source": [
    "rows3[:5]"
   ]
  },
  {
   "cell_type": "code",
   "execution_count": 43,
   "metadata": {},
   "outputs": [
    {
     "name": "stdout",
     "output_type": "stream",
     "text": [
      "최저기온 : -23.1 at 1927-12-31\n",
      "최고기온 : 39.6 at 2018-08-01\n",
      "최대일교차 : 21.8 at 1942-04-19\n"
     ]
    }
   ],
   "source": [
    "# 기온이 가장 낮은 날과 가장 높은 날 및 일교차가 가장 큰 날을 찾아서 날짜와 최저기온, 최고기온, 일교차 출력 \n",
    "\n",
    "# { \"최고\" : ['2022-08-08', 36], \"최저\" : ['2019-01-03', -14] }\n",
    "# [['2022-08-08', 36], ['2019-01-03', -14]]\n",
    "result = [['', 100],['', -100],['', 0]] # [[날짜, 최저기온],[날짜, 최고기온],[날짜, 일교차]]\n",
    "\n",
    "for row in rows3[1:]:\n",
    "    try:\n",
    "        low = float(row[3])\n",
    "        high = float(row[4])\n",
    "\n",
    "        if low < result[0][1]:\n",
    "            result[0][0] = row[0]\n",
    "            result[0][1] = low\n",
    "        if high > result[1][1]:\n",
    "            result[1][0] = row[0]\n",
    "            result[1][1] = high\n",
    "        if (high - low) > result[2][1]:\n",
    "            result[2][0] = row[0]\n",
    "            result[2][1] = high - low\n",
    "    except:\n",
    "        pass\n",
    "\n",
    "print(\"최저기온 : {0} at {1}\".format(result[0][1], result[0][0]))\n",
    "print(\"최고기온 : {0} at {1}\".format(result[1][1], result[1][0]))\n",
    "print(\"최대일교차 : {0} at {1}\".format(result[2][1], result[2][0]))\n"
   ]
  },
  {
   "cell_type": "code",
   "execution_count": null,
   "metadata": {},
   "outputs": [],
   "source": []
  },
  {
   "cell_type": "code",
   "execution_count": 47,
   "metadata": {},
   "outputs": [
    {
     "name": "stdout",
     "output_type": "stream",
     "text": [
      "[['날짜', '지점', '평균기온(℃)', '최저기온(℃)', '최고기온(℃)'], ['1907-10-01', '108', '13.5', '7.9', '20.7'], ['1907-10-02', '108', '16.2', '7.9', '22'], ['1907-10-03', '108', '16.2', '13.1', '21.3'], ['1907-10-04', '108', '16.5', '11.2', '22']]\n"
     ]
    }
   ],
   "source": [
    "import csv\n",
    "\n",
    "with open(\"data-files/seoul-temperature.csv\") as f:\n",
    "    reader = csv.reader(f)\n",
    "\n",
    "    rows = []\n",
    "    for row in reader:\n",
    "        # row[0] = row[0].replace(\"\\t\", \"\")\n",
    "        row[0] = row[0].strip(\"\\t\")\n",
    "        rows.append(row)\n",
    "\n",
    "print(rows[:5])"
   ]
  },
  {
   "cell_type": "code",
   "execution_count": null,
   "metadata": {},
   "outputs": [],
   "source": []
  },
  {
   "cell_type": "code",
   "execution_count": null,
   "metadata": {},
   "outputs": [],
   "source": [
    "# 최다 신규 확진자 발생일, 확진자수 찾기 ( 자치구별, 서울전체)"
   ]
  },
  {
   "cell_type": "code",
   "execution_count": 57,
   "metadata": {},
   "outputs": [],
   "source": [
    "# 1. 파일 데이터 읽기\n",
    "import csv\n",
    "\n",
    "with open(\"data-files/seoul-covid-19.csv\", \"rt\", encoding=\"utf-8\") as f:\n",
    "    covid_reader = csv.reader(f)\n",
    "\n",
    "    titles = next(covid_reader) # next : 목록(iterator)에서 다음 행으로 이동 ( 제목 표시 행 건너뛰기 )\n",
    "\n",
    "    rows = []\n",
    "    for row in covid_reader:\n",
    "        # print(row)\n",
    "        row[1:] = map(lambda v: int(v) , row[1:]) # 1번째 요소부터 마지막 요소까지 숫자로 변경\n",
    "        # print(row)\n",
    "        rows.append(row)"
   ]
  },
  {
   "cell_type": "code",
   "execution_count": 60,
   "metadata": {},
   "outputs": [
    {
     "name": "stdout",
     "output_type": "stream",
     "text": [
      "MAX COVID STAT : [7432] at [2022.03.16.00] in [송파구 추가]\n"
     ]
    }
   ],
   "source": [
    "# 2. 일간 최대 확진자수 찾기\n",
    "max_value = 0\n",
    "max_row_idx = 0\n",
    "max_col_idx = 0\n",
    "for row_idx, row in enumerate(rows): # enumerate(list) : 행번호와 행데이터를 같이 반환\n",
    "    for idx in range(2, len(row) - 2, 2): # range(from, to, step)\n",
    "        # print(row[idx], end=\" \")\n",
    "        if max_value < row[idx]:\n",
    "            max_value = row[idx]\n",
    "            max_row_idx = row_idx\n",
    "            max_col_idx = idx\n",
    "    # print()\n",
    "\n",
    "print(\"MAX COVID STAT : [{0}] at [{1}] in [{2}]\".format(max_value, \n",
    "                                                        rows[max_row_idx][0], titles[max_col_idx]))\n"
   ]
  }
 ],
 "metadata": {
  "kernelspec": {
   "display_name": "kdt-da",
   "language": "python",
   "name": "python3"
  },
  "language_info": {
   "codemirror_mode": {
    "name": "ipython",
    "version": 3
   },
   "file_extension": ".py",
   "mimetype": "text/x-python",
   "name": "python",
   "nbconvert_exporter": "python",
   "pygments_lexer": "ipython3",
   "version": "3.9.16"
  },
  "orig_nbformat": 4
 },
 "nbformat": 4,
 "nbformat_minor": 2
}
