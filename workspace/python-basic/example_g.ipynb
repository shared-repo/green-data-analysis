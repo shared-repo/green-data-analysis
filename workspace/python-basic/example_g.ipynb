{
 "cells": [
  {
   "cell_type": "code",
   "execution_count": null,
   "metadata": {},
   "outputs": [],
   "source": [
    "# 로또 당첨 예상 번호 추출기\n",
    "\n",
    "# 1. 1 ~ 45 (중복 되지 않는) 6개 랜덤 숫자 뽑기\n",
    "# 2. 뽑힌 숫자의 평균 계산\n",
    "# 3. 평균이 20보다 작거나 26보다 크면 1부터 다시\n",
    "# 4. 과거 1등 당첨빈도 순위가 10위  이내의 번호가 포함되면 1부터 다시\n",
    "# 5. 뽑힌 번호 표시\n",
    "# 6. 사용자가 원할때까지 계속"
   ]
  },
  {
   "cell_type": "code",
   "execution_count": 40,
   "metadata": {},
   "outputs": [
    {
     "name": "stdout",
     "output_type": "stream",
     "text": [
      "23.833333333333332\n",
      "[2, 23, 25, 26, 33, 34]\n",
      "22.0\n",
      "[3, 8, 20, 28, 34, 39]\n",
      "18.833333333333332\n",
      "31.833333333333332\n",
      "24.0\n",
      "[8, 10, 23, 25, 36, 42]\n",
      "행운을 빕니다. 프로그램을 종료합니다.\n"
     ]
    }
   ],
   "source": [
    "import random\n",
    "\n",
    "while True: # Game Loop\n",
    "\n",
    "    selection = input(\"[1. 번호 뽑기] [2. 종료] 선택하세요 : \")\n",
    "    if selection == \"2\":\n",
    "        print(\"행운을 빕니다. 프로그램을 종료합니다.\")\n",
    "        break\n",
    "    elif selection != \"1\":\n",
    "        print(\"지원하지 않는 명령\")\n",
    "        continue\n",
    "\n",
    "    while True: # Number Selection Loop\n",
    "        # 1. 1 ~ 45 (중복 되지 않는) 6개 랜덤 숫자 뽑기\n",
    "        # numbers = [ random.randint(1, 45) for _ in range(6) ] # _ 변수는 사용하지 않을 변수의 의미\n",
    "        numbers = []\n",
    "        while True:\n",
    "            n = random.randint(1, 45)\n",
    "            if n not in numbers:\n",
    "                numbers.append(n)\n",
    "            if len(numbers) == 6:\n",
    "                break\n",
    "        numbers.sort()\n",
    "\n",
    "        #    번호 출력\n",
    "        # print(numbers)\n",
    "        # 2. 뽑힌 숫자의 평균 계산\n",
    "        mean = sum(numbers) / len(numbers)\n",
    "        #    평균 출력\n",
    "        print(mean)\n",
    "        # 3. 평균이 20 이상 26 이하이면 반복문 종료\n",
    "        if mean >= 20 and mean <= 26:\n",
    "            break\n",
    "\n",
    "    # 당첨 예상 번호 출력\n",
    "    print(numbers)"
   ]
  },
  {
   "cell_type": "code",
   "execution_count": null,
   "metadata": {},
   "outputs": [],
   "source": [
    "[(9, 113), (32, 122), (22, 123), (23, 125), (28, 127), (30, 127), (41, 131), (6, 134), (25, 134), \n",
    " (29, 134), (8, 136), (35, 137), (16, 138), (42, 138), (7, 139), (19, 139), (38, 139), (3, 140), \n",
    " (5, 140), (10, 140), (24, 140), (2, 141), (4, 141), (44, 141), (21, 142), (31, 142), (11, 143), \n",
    " (26, 143), (36, 143), (15, 144), (40, 145), (1, 146), (37, 146), (33, 147), (20, 148), (43, 148), \n",
    " (13, 150), (39, 150), (45, 150), (14, 152), (17, 152), (27, 153), (18, 155), (12, 156), (34, 162)]"
   ]
  }
 ],
 "metadata": {
  "kernelspec": {
   "display_name": "kdt-da",
   "language": "python",
   "name": "python3"
  },
  "language_info": {
   "codemirror_mode": {
    "name": "ipython",
    "version": 3
   },
   "file_extension": ".py",
   "mimetype": "text/x-python",
   "name": "python",
   "nbconvert_exporter": "python",
   "pygments_lexer": "ipython3",
   "version": "3.9.16"
  },
  "orig_nbformat": 4
 },
 "nbformat": 4,
 "nbformat_minor": 2
}
