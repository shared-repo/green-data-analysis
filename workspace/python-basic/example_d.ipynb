{
 "cells": [
  {
   "cell_type": "code",
   "execution_count": 1,
   "metadata": {},
   "outputs": [],
   "source": [
    "# 리스트 만들기\n",
    "a = [ ] # a = list()\n",
    "b = [1, 2, 3]\n",
    "c = ['Life', 'is', 'too', 'short']\n",
    "d = [1, 2, 'Life', 'is']\n",
    "e = [1, 2, ['Life', 'is']]"
   ]
  },
  {
   "cell_type": "code",
   "execution_count": 2,
   "metadata": {},
   "outputs": [
    {
     "name": "stdout",
     "output_type": "stream",
     "text": [
      "4 3\n"
     ]
    }
   ],
   "source": [
    "print( len(d), len(e) )"
   ]
  },
  {
   "cell_type": "code",
   "execution_count": 3,
   "metadata": {},
   "outputs": [
    {
     "name": "stdout",
     "output_type": "stream",
     "text": [
      "1 3\n"
     ]
    }
   ],
   "source": [
    "# 리스트 인덱싱\n",
    "a = [1, 2, 3]\n",
    "print(a[0], a[-1])"
   ]
  },
  {
   "cell_type": "code",
   "execution_count": 5,
   "metadata": {},
   "outputs": [
    {
     "name": "stdout",
     "output_type": "stream",
     "text": [
      "['a', 'b', 'c']\n",
      "b\n"
     ]
    }
   ],
   "source": [
    "# 리스트를 요소로 하는 리스트 사용\n",
    "a = [1, 2, 3, ['a', 'b', 'c']]\n",
    "print( a[-1] )\n",
    "print( a[-1][1])"
   ]
  },
  {
   "cell_type": "code",
   "execution_count": 8,
   "metadata": {},
   "outputs": [
    {
     "name": "stdout",
     "output_type": "stream",
     "text": [
      "[2, 3]\n",
      "[1, 2]\n",
      "[3, 4, 5]\n",
      "[1, 2, 3, 4, 5]\n"
     ]
    }
   ],
   "source": [
    "# 리스트 슬라이싱\n",
    "a = [1, 2, 3, 4, 5]\n",
    "print( a[1:3] )\n",
    "print( a[:2] ) # 처음 ~ 2\n",
    "print( a[2:] ) # 2 ~ 끝\n",
    "print( a[:] ) # 처음 ~ 끝"
   ]
  },
  {
   "cell_type": "code",
   "execution_count": 11,
   "metadata": {},
   "outputs": [
    {
     "name": "stdout",
     "output_type": "stream",
     "text": [
      "[1, 2, 3, 4, 5, 6]\n",
      "[1, 2, 3, 1, 2, 3, 1, 2, 3]\n"
     ]
    }
   ],
   "source": [
    "a = [1, 2, 3]\n",
    "b = [4, 5, 6]\n",
    "print( a + b ) # 리스트 + 리스트 = 리스트 병합\n",
    "print( a * 3 ) # 리스트 * 숫자 = 리스트 반복 병합"
   ]
  },
  {
   "cell_type": "code",
   "execution_count": 14,
   "metadata": {},
   "outputs": [
    {
     "name": "stdout",
     "output_type": "stream",
     "text": [
      "[1, 10, 3]\n",
      "[1, 'a', 'b', 'c', 3]\n",
      "[1, ['a', 'b', 'c'], 3]\n"
     ]
    }
   ],
   "source": [
    "a = [1, 2, 3]\n",
    "a[1] = 10 # 1번째 요소의 값 변경\n",
    "print( a )\n",
    "a[1:2] = ['a', 'b', 'c'] # a[1] 변경 ( 집합 대 집합 교환)\n",
    "print( a )\n",
    "\n",
    "a = [1, 2, 3]\n",
    "a[1] = ['a', 'b', 'c'] # a[1] 변경 ( 요소 대 집합 교환)\n",
    "print( a )"
   ]
  },
  {
   "cell_type": "code",
   "execution_count": 16,
   "metadata": {},
   "outputs": [
    {
     "name": "stdout",
     "output_type": "stream",
     "text": [
      "[1, 4, 5]\n",
      "[1, 5]\n"
     ]
    }
   ],
   "source": [
    "# 요소 삭제\n",
    "a = [1, 2, 3, 4, 5]\n",
    "a[1:3] = []\n",
    "print( a )\n",
    "del a[1]\n",
    "print( a )"
   ]
  },
  {
   "cell_type": "code",
   "execution_count": 26,
   "metadata": {},
   "outputs": [
    {
     "name": "stdout",
     "output_type": "stream",
     "text": [
      "[1, 2, 3, 4]\n",
      "[5, 1, 6, 2, 3, 4]\n",
      "[1, 2, 3, 4, 5, 6]\n",
      "[6, 5, 4, 3, 2, 1]\n",
      "1\n",
      "[6, 5, 4, 3, 2]\n",
      "[6, 5, 4, 3, 2, 7, 8]\n"
     ]
    }
   ],
   "source": [
    "a = [1, 2, 3]\n",
    "a.append(4) # 목록 뒤에 추가\n",
    "print( a )\n",
    "a.insert(0, 5) # 지정된 위치에 추가\n",
    "a.insert(2, 6)\n",
    "print( a )\n",
    "a.sort() # 리스트 정렬\n",
    "print( a )\n",
    "# a.sort(reverse=True) # 내림차순 정렬, True : 참을 의미하는 예약어 <--> False\n",
    "a.reverse() # == a.sort(reverse=True)\n",
    "print(a)\n",
    "\n",
    "print( a.pop() ) # 읽기 + 제거\n",
    "print( a )\n",
    "\n",
    "a.extend([7,8]) # a = a + [7, 8]\n",
    "print(a)"
   ]
  },
  {
   "cell_type": "code",
   "execution_count": 31,
   "metadata": {},
   "outputs": [
    {
     "name": "stdout",
     "output_type": "stream",
     "text": [
      "(1,)\n",
      "(1, 2, 3)\n"
     ]
    }
   ],
   "source": [
    "# Tuple 만들기\n",
    "t1 = ()\n",
    "t2 = (1, ) # ,가 없으면 단일 값\n",
    "t3 = (1, 2, 3)\n",
    "t4 = 1, 2, 3 # 값 목록을 하나의 변수에 저장하면 Tuple로 처리\n",
    "t5 = ('a', 'b', ('ab', 'cd'))\n",
    "\n",
    "print( t2 )\n",
    "print( t4 )"
   ]
  },
  {
   "cell_type": "code",
   "execution_count": 28,
   "metadata": {},
   "outputs": [
    {
     "ename": "TypeError",
     "evalue": "'tuple' object does not support item assignment",
     "output_type": "error",
     "traceback": [
      "\u001b[1;31m---------------------------------------------------------------------------\u001b[0m",
      "\u001b[1;31mTypeError\u001b[0m                                 Traceback (most recent call last)",
      "Cell \u001b[1;32mIn[28], line 4\u001b[0m\n\u001b[0;32m      2\u001b[0m t1 \u001b[39m=\u001b[39m (\u001b[39m1\u001b[39m, \u001b[39m2\u001b[39m, \u001b[39m'\u001b[39m\u001b[39ma\u001b[39m\u001b[39m'\u001b[39m, \u001b[39m'\u001b[39m\u001b[39mb\u001b[39m\u001b[39m'\u001b[39m)\n\u001b[0;32m      3\u001b[0m \u001b[39m# del t1[0] 오류 : tuple은 변경(삭제) 불가능\u001b[39;00m\n\u001b[1;32m----> 4\u001b[0m t1[\u001b[39m0\u001b[39;49m] \u001b[39m=\u001b[39m \u001b[39m10\u001b[39m\n",
      "\u001b[1;31mTypeError\u001b[0m: 'tuple' object does not support item assignment"
     ]
    }
   ],
   "source": [
    "# Tuple 수정 불가\n",
    "t1 = (1, 2, 'a', 'b')\n",
    "# del t1[0] # 오류 : tuple은 변경(삭제) 불가능\n",
    "t1[0] = 10 # 오류 : tuple은 변경 불가능"
   ]
  },
  {
   "cell_type": "code",
   "execution_count": 32,
   "metadata": {},
   "outputs": [],
   "source": [
    "# Dictionary 만들기\n",
    "dic = { 'name': 'pey', 'phone':'0119993323', 'birth': '1118' }\n",
    "a = { 1: 'hi' }\n",
    "a = { 'a': [1, 2, 3] }"
   ]
  },
  {
   "cell_type": "code",
   "execution_count": 33,
   "metadata": {},
   "outputs": [
    {
     "name": "stdout",
     "output_type": "stream",
     "text": [
      "{'name': 'pey', 'phone': '0119993323', 'birth': '1118'}\n"
     ]
    }
   ],
   "source": [
    "print(dic)"
   ]
  },
  {
   "cell_type": "code",
   "execution_count": 36,
   "metadata": {},
   "outputs": [
    {
     "name": "stdout",
     "output_type": "stream",
     "text": [
      "{1: 'a', 2: 'b'}\n",
      "{1: 'a', 2: 'b', 'name': 'pey'}\n",
      "{1: 'a', 2: 'b', 'name': 'pey', 3: [1, 2, 3]}\n",
      "{1: 'modified', 2: 'b', 'name': 'pey', 3: [1, 2, 3], 4: 'appended'}\n"
     ]
    }
   ],
   "source": [
    "a = { 1: 'a' }\n",
    "a[2] = 'b' # { 2: 'b' } 항목 추가\n",
    "print( a )\n",
    "a['name'] = 'pey' #{ 'name': 'pey' } 항목 추가\n",
    "print( a )\n",
    "a[3] = [1,2,3] # { 3: [1, 2, 3] } 항목 추구\n",
    "print( a )\n",
    "\n",
    "a.update({1: 'modified', 4: 'appended'}) # 기존에 존재하는 key에 대해서는 수정, 없는 key에 대해서는 추가\n",
    "print( a )\n",
    "\n"
   ]
  },
  {
   "cell_type": "code",
   "execution_count": 37,
   "metadata": {},
   "outputs": [
    {
     "name": "stdout",
     "output_type": "stream",
     "text": [
      "{2: 'b', 'name': 'pey', 3: [1, 2, 3], 4: 'appended'}\n"
     ]
    }
   ],
   "source": [
    "# 딕셔너리 요소 삭제\n",
    "del a[1] # 1은 순서번호가 아니고 key 값\n",
    "print ( a )"
   ]
  },
  {
   "cell_type": "code",
   "execution_count": 39,
   "metadata": {},
   "outputs": [
    {
     "name": "stdout",
     "output_type": "stream",
     "text": [
      "10\n",
      "99\n"
     ]
    },
    {
     "ename": "KeyError",
     "evalue": "'johndoe'",
     "output_type": "error",
     "traceback": [
      "\u001b[1;31m---------------------------------------------------------------------------\u001b[0m",
      "\u001b[1;31mKeyError\u001b[0m                                  Traceback (most recent call last)",
      "Cell \u001b[1;32mIn[39], line 5\u001b[0m\n\u001b[0;32m      3\u001b[0m \u001b[39mprint\u001b[39m( grade[\u001b[39m'\u001b[39m\u001b[39mpey\u001b[39m\u001b[39m'\u001b[39m] )\n\u001b[0;32m      4\u001b[0m \u001b[39mprint\u001b[39m( grade[\u001b[39m'\u001b[39m\u001b[39mjulliet\u001b[39m\u001b[39m'\u001b[39m])\n\u001b[1;32m----> 5\u001b[0m \u001b[39mprint\u001b[39m( grade[\u001b[39m'\u001b[39;49m\u001b[39mjohndoe\u001b[39;49m\u001b[39m'\u001b[39;49m] )\n",
      "\u001b[1;31mKeyError\u001b[0m: 'johndoe'"
     ]
    }
   ],
   "source": [
    "# 딕셔너리 값 읽기\n",
    "grade = {'pey': 10, 'julliet': 99}\n",
    "print( grade['pey'] )\n",
    "print( grade['julliet'])\n",
    "print( grade['johndoe'] ) # 없는 키를 사용하면 오류"
   ]
  },
  {
   "cell_type": "code",
   "execution_count": 43,
   "metadata": {},
   "outputs": [
    {
     "name": "stdout",
     "output_type": "stream",
     "text": [
      "dict_keys(['name', 'phone', 'birth'])\n",
      "dict_values(['pey', '0119993323', '1118'])\n",
      "dict_items([('name', 'pey'), ('phone', '0119993323'), ('birth', '1118')])\n",
      "pey\n",
      "0119993323\n",
      "1118\n"
     ]
    }
   ],
   "source": [
    "a = {'name': 'pey', 'phone': '0119993323', 'birth': '1118'}\n",
    "\n",
    "print( a.keys() ) # keys : key의 list 반환\n",
    "print( a.values() ) # value : value의 list 반환\n",
    "print( a.items() ) # (key, value) tuple의 list 반환\n",
    "\n",
    "for key in a.keys():\n",
    "    print(a[key])"
   ]
  },
  {
   "cell_type": "code",
   "execution_count": null,
   "metadata": {},
   "outputs": [],
   "source": []
  }
 ],
 "metadata": {
  "kernelspec": {
   "display_name": "kdt-da",
   "language": "python",
   "name": "python3"
  },
  "language_info": {
   "codemirror_mode": {
    "name": "ipython",
    "version": 3
   },
   "file_extension": ".py",
   "mimetype": "text/x-python",
   "name": "python",
   "nbconvert_exporter": "python",
   "pygments_lexer": "ipython3",
   "version": "3.9.16"
  },
  "orig_nbformat": 4
 },
 "nbformat": 4,
 "nbformat_minor": 2
}
