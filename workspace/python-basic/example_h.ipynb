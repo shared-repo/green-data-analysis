{
 "cells": [
  {
   "cell_type": "code",
   "execution_count": 4,
   "metadata": {},
   "outputs": [],
   "source": [
    "# 함수 만들기 (정의)\n",
    "# 이름 규칙 1 : name, userName, creditCard\n",
    "# 이름 규칙 2 : name, user_name, credit_card\n",
    "\n",
    "def show_message():\n",
    "    print(\"this is python function !!!!!\")\n",
    "    print(\"call this function !!!!!\")"
   ]
  },
  {
   "cell_type": "code",
   "execution_count": 5,
   "metadata": {},
   "outputs": [
    {
     "name": "stdout",
     "output_type": "stream",
     "text": [
      "this is python function !!!!!\n",
      "call this function !!!!!\n",
      "this is python function !!!!!\n",
      "call this function !!!!!\n"
     ]
    }
   ],
   "source": [
    "# 함수 호출 ( 함수를 불러서 실행하는 명령 )\n",
    "show_message()\n",
    "show_message()"
   ]
  },
  {
   "cell_type": "code",
   "execution_count": 6,
   "metadata": {},
   "outputs": [],
   "source": [
    "def get_greetings():\n",
    "    print(\"Hello, John Doe\")\n",
    "    print(\"Welcome to python world !!!!!\")"
   ]
  },
  {
   "cell_type": "code",
   "execution_count": 7,
   "metadata": {},
   "outputs": [
    {
     "name": "stdout",
     "output_type": "stream",
     "text": [
      "Hello, John Doe\n",
      "Welcome to python world !!!!!\n"
     ]
    }
   ],
   "source": [
    "get_greetings()"
   ]
  }
 ],
 "metadata": {
  "kernelspec": {
   "display_name": "kdt-da",
   "language": "python",
   "name": "python3"
  },
  "language_info": {
   "codemirror_mode": {
    "name": "ipython",
    "version": 3
   },
   "file_extension": ".py",
   "mimetype": "text/x-python",
   "name": "python",
   "nbconvert_exporter": "python",
   "pygments_lexer": "ipython3",
   "version": "3.9.16"
  },
  "orig_nbformat": 4
 },
 "nbformat": 4,
 "nbformat_minor": 2
}
