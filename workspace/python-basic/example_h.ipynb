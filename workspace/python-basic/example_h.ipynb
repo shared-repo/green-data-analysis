{
 "cells": [
  {
   "cell_type": "code",
   "execution_count": 4,
   "metadata": {},
   "outputs": [],
   "source": [
    "# 함수 만들기 (정의)\n",
    "# 이름 규칙 1 : name, userName, creditCard\n",
    "# 이름 규칙 2 : name, user_name, credit_card\n",
    "\n",
    "def show_message():\n",
    "    print(\"this is python function !!!!!\")\n",
    "    print(\"call this function !!!!!\")"
   ]
  },
  {
   "cell_type": "code",
   "execution_count": 5,
   "metadata": {},
   "outputs": [
    {
     "name": "stdout",
     "output_type": "stream",
     "text": [
      "this is python function !!!!!\n",
      "call this function !!!!!\n",
      "this is python function !!!!!\n",
      "call this function !!!!!\n"
     ]
    }
   ],
   "source": [
    "# 함수 호출 ( 함수를 불러서 실행하는 명령 )\n",
    "show_message()\n",
    "show_message()"
   ]
  },
  {
   "cell_type": "code",
   "execution_count": 9,
   "metadata": {},
   "outputs": [],
   "source": [
    "def get_greetings():\n",
    "    print(\"Hello, John Doe\")\n",
    "    print(\"Welcome to python world !!!!!\")\n",
    "\n",
    "def get_greetings_with_name(name):\n",
    "    print(\"Hello, {0}\".format(name))\n",
    "    print(\"Welcome to python world !!!!!\")"
   ]
  },
  {
   "cell_type": "code",
   "execution_count": 11,
   "metadata": {},
   "outputs": [
    {
     "name": "stdout",
     "output_type": "stream",
     "text": [
      "Hello, John Doe\n",
      "Welcome to python world !!!!!\n",
      "Hello, Jane Deo\n",
      "Welcome to python world !!!!!\n",
      "Hello, 홍길동\n",
      "Welcome to python world !!!!!\n"
     ]
    }
   ],
   "source": [
    "get_greetings()\n",
    "\n",
    "get_greetings_with_name(\"Jane Deo\")\n",
    "get_greetings_with_name(\"홍길동\")"
   ]
  },
  {
   "cell_type": "code",
   "execution_count": 15,
   "metadata": {},
   "outputs": [
    {
     "name": "stdout",
     "output_type": "stream",
     "text": [
      "10 + 20 = 30\n",
      "10 * 20 = 200\n"
     ]
    }
   ],
   "source": [
    "# 전달인자는 여러 개 사용 가능\n",
    "def calculate(a, b, op):    \n",
    "    if op == \"+\":\n",
    "        result = a + b\n",
    "    elif op == \"*\":\n",
    "        result = a * b\n",
    "    elif op == \"-\":\n",
    "        result = a - b\n",
    "    elif op == \"/\":\n",
    "        result = a / b\n",
    "\n",
    "    print( \"{0} {1} {2} = {3}\".format(a, op, b, result) )\n",
    "\n",
    "calculate(10, 20, \"+\")\n",
    "calculate(10, 20, \"*\")"
   ]
  },
  {
   "cell_type": "code",
   "execution_count": 17,
   "metadata": {},
   "outputs": [
    {
     "name": "stdout",
     "output_type": "stream",
     "text": [
      "30\n",
      "200\n"
     ]
    }
   ],
   "source": [
    "# 반환 값이 있는 함수 만들기\n",
    "def calculate_with_return(a, b, op):    \n",
    "    if op == \"+\":\n",
    "        result = a + b\n",
    "    elif op == \"*\":\n",
    "        result = a * b\n",
    "    elif op == \"-\":\n",
    "        result = a - b\n",
    "    elif op == \"/\":\n",
    "        result = a / b\n",
    "\n",
    "    return result # return value : calculate_with_return 함수를 호출한 곳으로 value 반환(돌려주기)\n",
    "\n",
    "\n",
    "v = calculate_with_return(10, 20, \"+\")\n",
    "print(v)\n",
    "v = calculate_with_return(10, 20, \"*\")\n",
    "print(v)"
   ]
  },
  {
   "cell_type": "code",
   "execution_count": 20,
   "metadata": {},
   "outputs": [
    {
     "name": "stdout",
     "output_type": "stream",
     "text": [
      "(40, -20, 300, 0.3333333333333333)\n"
     ]
    }
   ],
   "source": [
    "# 여러 개의 반환 값 처리\n",
    "def multiple_calculate(a, b):\n",
    "    result1 = a + b\n",
    "    result2 = a - b\n",
    "    result3 = a * b\n",
    "    result4 = a / b\n",
    "\n",
    "    # return (result1, result2, result3, result4) # tuple을 사용해서 여러 개의 값 반환\n",
    "    return result1, result2, result3, result4 # ,로 구성된 여러 개의 값 반환 -> 자동으로 Tuple로 변경 처리\n",
    "\n",
    "result = multiple_calculate(10, 30)\n",
    "print(result)"
   ]
  }
 ],
 "metadata": {
  "kernelspec": {
   "display_name": "kdt-da",
   "language": "python",
   "name": "python3"
  },
  "language_info": {
   "codemirror_mode": {
    "name": "ipython",
    "version": 3
   },
   "file_extension": ".py",
   "mimetype": "text/x-python",
   "name": "python",
   "nbconvert_exporter": "python",
   "pygments_lexer": "ipython3",
   "version": "3.9.16"
  },
  "orig_nbformat": 4
 },
 "nbformat": 4,
 "nbformat_minor": 2
}
