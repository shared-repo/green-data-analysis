{
 "cells": [
  {
   "cell_type": "code",
   "execution_count": 4,
   "metadata": {},
   "outputs": [],
   "source": [
    "# 함수 만들기 (정의)\n",
    "# 이름 규칙 1 : name, userName, creditCard\n",
    "# 이름 규칙 2 : name, user_name, credit_card\n",
    "\n",
    "def show_message():\n",
    "    print(\"this is python function !!!!!\")\n",
    "    print(\"call this function !!!!!\")"
   ]
  },
  {
   "cell_type": "code",
   "execution_count": 5,
   "metadata": {},
   "outputs": [
    {
     "name": "stdout",
     "output_type": "stream",
     "text": [
      "this is python function !!!!!\n",
      "call this function !!!!!\n",
      "this is python function !!!!!\n",
      "call this function !!!!!\n"
     ]
    }
   ],
   "source": [
    "# 함수 호출 ( 함수를 불러서 실행하는 명령 )\n",
    "show_message()\n",
    "show_message()"
   ]
  },
  {
   "cell_type": "code",
   "execution_count": 9,
   "metadata": {},
   "outputs": [],
   "source": [
    "def get_greetings():\n",
    "    print(\"Hello, John Doe\")\n",
    "    print(\"Welcome to python world !!!!!\")\n",
    "\n",
    "def get_greetings_with_name(name):\n",
    "    print(\"Hello, {0}\".format(name))\n",
    "    print(\"Welcome to python world !!!!!\")"
   ]
  },
  {
   "cell_type": "code",
   "execution_count": 11,
   "metadata": {},
   "outputs": [
    {
     "name": "stdout",
     "output_type": "stream",
     "text": [
      "Hello, John Doe\n",
      "Welcome to python world !!!!!\n",
      "Hello, Jane Deo\n",
      "Welcome to python world !!!!!\n",
      "Hello, 홍길동\n",
      "Welcome to python world !!!!!\n"
     ]
    }
   ],
   "source": [
    "get_greetings()\n",
    "\n",
    "get_greetings_with_name(\"Jane Deo\")\n",
    "get_greetings_with_name(\"홍길동\")"
   ]
  },
  {
   "cell_type": "code",
   "execution_count": 15,
   "metadata": {},
   "outputs": [
    {
     "name": "stdout",
     "output_type": "stream",
     "text": [
      "10 + 20 = 30\n",
      "10 * 20 = 200\n"
     ]
    }
   ],
   "source": [
    "# 전달인자는 여러 개 사용 가능\n",
    "def calculate(a, b, op):    \n",
    "    if op == \"+\":\n",
    "        result = a + b\n",
    "    elif op == \"*\":\n",
    "        result = a * b\n",
    "    elif op == \"-\":\n",
    "        result = a - b\n",
    "    elif op == \"/\":\n",
    "        result = a / b\n",
    "\n",
    "    print( \"{0} {1} {2} = {3}\".format(a, op, b, result) )\n",
    "\n",
    "calculate(10, 20, \"+\")\n",
    "calculate(10, 20, \"*\")"
   ]
  },
  {
   "cell_type": "code",
   "execution_count": 22,
   "metadata": {},
   "outputs": [
    {
     "name": "stdout",
     "output_type": "stream",
     "text": [
      "30\n",
      "200\n",
      "200\n"
     ]
    }
   ],
   "source": [
    "# 반환 값이 있는 함수 만들기\n",
    "def calculate_with_return(a, b, op):\n",
    "    if op == \"+\":\n",
    "        result = a + b\n",
    "    elif op == \"*\":\n",
    "        result = a * b\n",
    "    elif op == \"-\":\n",
    "        result = a - b\n",
    "    elif op == \"/\":\n",
    "        result = a / b\n",
    "\n",
    "    return result # return value : calculate_with_return 함수를 호출한 곳으로 value 반환(돌려주기)\n",
    "\n",
    "\n",
    "v = calculate_with_return(10, 20, \"+\")\n",
    "print(v)\n",
    "v = calculate_with_return(10, 20, \"*\")\n",
    "print(v)"
   ]
  },
  {
   "cell_type": "code",
   "execution_count": 20,
   "metadata": {},
   "outputs": [
    {
     "name": "stdout",
     "output_type": "stream",
     "text": [
      "(40, -20, 300, 0.3333333333333333)\n"
     ]
    }
   ],
   "source": [
    "# 여러 개의 반환 값 처리\n",
    "def multiple_calculate(a, b):\n",
    "    result1 = a + b\n",
    "    result2 = a - b\n",
    "    result3 = a * b\n",
    "    result4 = a / b\n",
    "\n",
    "    # return (result1, result2, result3, result4) # tuple을 사용해서 여러 개의 값 반환\n",
    "    return result1, result2, result3, result4 # ,로 구성된 여러 개의 값 반환 -> 자동으로 Tuple로 변경 처리\n",
    "\n",
    "result = multiple_calculate(10, 30)\n",
    "print(result)"
   ]
  },
  {
   "cell_type": "code",
   "execution_count": 25,
   "metadata": {},
   "outputs": [
    {
     "name": "stdout",
     "output_type": "stream",
     "text": [
      "200\n",
      "30\n"
     ]
    }
   ],
   "source": [
    "# 전달인자의 기본 값과 이름을 지정해서 전달인자 사용\n",
    "def calculate_with_return2(a=0, b=0, op=\"+\"): #전달인자의 기본 값 : op는 호출할 때 지정하지 않으면 \"+\"로 사용\n",
    "    if op == \"+\":\n",
    "        result = a + b\n",
    "    elif op == \"*\":\n",
    "        result = a * b\n",
    "    elif op == \"-\":\n",
    "        result = a - b\n",
    "    elif op == \"/\":\n",
    "        result = a / b\n",
    "\n",
    "    return result # return value : calculate_with_return 함수를 호출한 곳으로 value 반환(돌려주기)\n",
    "\n",
    "# v = calculate_with_return2(10, \"*\", 20) #  전달인자의 순서가 다르면 오류 발생\n",
    "v = calculate_with_return2(a=10, op=\"*\", b=20) #  전달인자에 이름을 지정해서 전달할 수 있습니다.\n",
    "print(v)\n",
    "v = calculate_with_return2(b=10) #  전달인자 생략 -> 기본 값 사용\n",
    "print(v)"
   ]
  },
  {
   "cell_type": "code",
   "execution_count": 29,
   "metadata": {},
   "outputs": [
    {
     "name": "stdout",
     "output_type": "stream",
     "text": [
      "30\n",
      "10\n"
     ]
    }
   ],
   "source": [
    "b = 10\n",
    "c = 30\n",
    "def test():\n",
    "    a = 20 # 이 변수는 test 함수 안에서만 사용 가능\n",
    "    b = 20\n",
    "    print(c) \n",
    "\n",
    "test()\n",
    "# print(a) # 오류 a는 test() 함수 안에서만 사용 가능\n",
    "print(b)"
   ]
  },
  {
   "cell_type": "code",
   "execution_count": 31,
   "metadata": {},
   "outputs": [
    {
     "name": "stdout",
     "output_type": "stream",
     "text": [
      "100\n",
      "100\n"
     ]
    }
   ],
   "source": [
    "# 람다 함수\n",
    "\n",
    "def squared(x):\n",
    "    return x**2\n",
    "\n",
    "squared2 = lambda x: x**2\n",
    "\n",
    "a = squared(10)\n",
    "print(a)\n",
    "b = squared2(10)\n",
    "print(b)"
   ]
  },
  {
   "cell_type": "code",
   "execution_count": 34,
   "metadata": {},
   "outputs": [
    {
     "name": "stdout",
     "output_type": "stream",
     "text": [
      "[1, 1764, 1089, 49, 361, 676]\n",
      "[1, 1764, 1089, 49, 361, 676]\n"
     ]
    }
   ],
   "source": [
    "values = [1, 42, 33, 7, 19, 26]\n",
    "\n",
    "def squared(x):\n",
    "    return x**2\n",
    "print( list( map(squared, values) ) )\n",
    "\n",
    "print( list( map(lambda x:x**2, values)) )"
   ]
  },
  {
   "cell_type": "code",
   "execution_count": 37,
   "metadata": {},
   "outputs": [
    {
     "data": {
      "text/plain": [
       "600"
      ]
     },
     "execution_count": 37,
     "metadata": {},
     "output_type": "execute_result"
    }
   ],
   "source": [
    "def calculate_with_return3(a, b, op): \n",
    "    \"\"\"이 함수는 두 개의 숫자와 연산자를 \n",
    "       받아서 계산하고 결과를 반환하는 함수입니다.\"\"\"\n",
    "    if op == \"+\":\n",
    "        result = a + b\n",
    "        \n",
    "    elif op == \"*\":\n",
    "        result = a * b\n",
    "    elif op == \"-\":\n",
    "        result = a - b\n",
    "    elif op == \"/\":\n",
    "        result = a / b\n",
    "\n",
    "    return result\n",
    "\n",
    "calculate_with_return3(30, 20, \"*\")"
   ]
  },
  {
   "cell_type": "code",
   "execution_count": null,
   "metadata": {},
   "outputs": [],
   "source": [
    "calculate_with_return3()"
   ]
  }
 ],
 "metadata": {
  "kernelspec": {
   "display_name": "kdt-da",
   "language": "python",
   "name": "python3"
  },
  "language_info": {
   "codemirror_mode": {
    "name": "ipython",
    "version": 3
   },
   "file_extension": ".py",
   "mimetype": "text/x-python",
   "name": "python",
   "nbconvert_exporter": "python",
   "pygments_lexer": "ipython3",
   "version": "3.9.16"
  },
  "orig_nbformat": 4
 },
 "nbformat": 4,
 "nbformat_minor": 2
}
