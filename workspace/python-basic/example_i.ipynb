{
 "cells": [
  {
   "cell_type": "code",
   "execution_count": null,
   "metadata": {},
   "outputs": [],
   "source": [
    "# 로또 당첨 예상 번호 추출기\n",
    "\n",
    "# 1. 1 ~ 45 (중복 되지 않는) 6개 랜덤 숫자 뽑기\n",
    "# 2. 뽑힌 숫자의 평균 계산\n",
    "# 3. 평균이 20보다 작거나 26보다 크면 1부터 다시\n",
    "# 4. 과거 1등 당첨빈도 순위가 10위  이내의 번호가 포함되면 1부터 다시\n",
    "# 5. 뽑힌 번호 표시\n",
    "# 6. 사용자가 원할때까지 계속"
   ]
  },
  {
   "cell_type": "code",
   "execution_count": 13,
   "metadata": {},
   "outputs": [],
   "source": [
    "def select_basic_numbers():\n",
    "    \"\"\"1 ~ 45 (중복 되지 않는) 6개 랜덤 숫자 뽑기\"\"\"\n",
    "    \n",
    "    import random\n",
    "\n",
    "    numbers = []\n",
    "    while True:\n",
    "        n = random.randint(1, 45)\n",
    "        if n not in numbers:\n",
    "            numbers.append(n)\n",
    "        if len(numbers) == 6:\n",
    "            break\n",
    "    numbers.sort()\n",
    "\n",
    "    return numbers\n",
    "\n",
    "def check_mean(numbers, start=20, stop=26):\n",
    "    \"\"\"뽑힌 숫자의 평균이 지정된 범위 안에 포함되는지 확인\"\"\"\n",
    "    mean = sum(numbers) // len(numbers)\n",
    "    return mean, mean >= start and mean <= stop # return 평균, 정상여부\n",
    "\n",
    "def show_numbers(numbers, mean):\n",
    "    \"\"\"뽑힌 숫자와 평균을 출력\"\"\"\n",
    "    print(\"SELECTED NUMBERS : \", end=\"\")\n",
    "    for number in numbers:\n",
    "        print(\" [{0}] \".format(number), end=\"\")\n",
    "    print(\"[MEAN:{0}]\".format(mean))\n"
   ]
  },
  {
   "cell_type": "code",
   "execution_count": 14,
   "metadata": {},
   "outputs": [
    {
     "name": "stdout",
     "output_type": "stream",
     "text": [
      "SELECTED NUMBERS :  [12]  [15]  [20]  [31]  [33]  [45] [MEAN:26]\n",
      "행운을 빕니다. 프로그램을 종료합니다.\n"
     ]
    }
   ],
   "source": [
    "import random\n",
    "\n",
    "while True: # Game Loop\n",
    "\n",
    "    selection = input(\"[1. 번호 뽑기] [2. 종료] 선택하세요 : \")\n",
    "    if selection == \"2\":\n",
    "        print(\"행운을 빕니다. 프로그램을 종료합니다.\")\n",
    "        break\n",
    "    elif selection != \"1\":\n",
    "        print(\"지원하지 않는 명령\")\n",
    "        continue\n",
    "\n",
    "    while True: # Number Selection Loop\n",
    "\n",
    "        numbers = select_basic_numbers() # 함수 호출\n",
    "\n",
    "        mean, valid = check_mean(numbers)\n",
    "        if valid:\n",
    "            break\n",
    "\n",
    "    # 당첨 예상 번호 출력\n",
    "    show_numbers(numbers, mean)"
   ]
  },
  {
   "cell_type": "code",
   "execution_count": null,
   "metadata": {},
   "outputs": [],
   "source": [
    "[(9, 113), (32, 122), (22, 123), (23, 125), (28, 127), (30, 127), (41, 131), (6, 134), (25, 134), \n",
    " (29, 134), (8, 136), (35, 137), (16, 138), (42, 138), (7, 139), (19, 139), (38, 139), (3, 140), \n",
    " (5, 140), (10, 140), (24, 140), (2, 141), (4, 141), (44, 141), (21, 142), (31, 142), (11, 143), \n",
    " (26, 143), (36, 143), (15, 144), (40, 145), (1, 146), (37, 146), (33, 147), (20, 148), (43, 148), \n",
    " (13, 150), (39, 150), (45, 150), (14, 152), (17, 152), (27, 153), (18, 155), (12, 156), (34, 162)]"
   ]
  }
 ],
 "metadata": {
  "kernelspec": {
   "display_name": "kdt-da",
   "language": "python",
   "name": "python3"
  },
  "language_info": {
   "codemirror_mode": {
    "name": "ipython",
    "version": 3
   },
   "file_extension": ".py",
   "mimetype": "text/x-python",
   "name": "python",
   "nbconvert_exporter": "python",
   "pygments_lexer": "ipython3",
   "version": "3.9.16"
  },
  "orig_nbformat": 4
 },
 "nbformat": 4,
 "nbformat_minor": 2
}
