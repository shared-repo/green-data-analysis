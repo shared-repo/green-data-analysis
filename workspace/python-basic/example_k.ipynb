{
 "cells": [
  {
   "cell_type": "code",
   "execution_count": 1,
   "metadata": {},
   "outputs": [],
   "source": [
    "# 모듈 임포트\n",
    "import my_module # my_module.py 파일 실행"
   ]
  },
  {
   "cell_type": "code",
   "execution_count": 2,
   "metadata": {},
   "outputs": [
    {
     "name": "stdout",
     "output_type": "stream",
     "text": [
      "my module\n",
      "function in module\n",
      "function in module.class\n"
     ]
    }
   ],
   "source": [
    "# 모듈 사용\n",
    "print( my_module.module_name )\n",
    "my_module.f()\n",
    "cls = my_module.Cls()\n",
    "cls.f()"
   ]
  },
  {
   "cell_type": "code",
   "execution_count": 4,
   "metadata": {},
   "outputs": [
    {
     "name": "stdout",
     "output_type": "stream",
     "text": [
      "my module\n",
      "function in module\n",
      "function in module.class\n"
     ]
    }
   ],
   "source": [
    "import my_module as mm\n",
    "\n",
    "print( mm.module_name )\n",
    "mm.f()\n",
    "cls = mm.Cls()\n",
    "cls.f()"
   ]
  },
  {
   "cell_type": "code",
   "execution_count": 5,
   "metadata": {},
   "outputs": [
    {
     "name": "stdout",
     "output_type": "stream",
     "text": [
      "my module\n",
      "function in module\n",
      "function in module.class\n"
     ]
    }
   ],
   "source": [
    "from my_module import module_name, f, Cls\n",
    "\n",
    "print( module_name )\n",
    "f()\n",
    "cls = Cls()\n",
    "cls.f()"
   ]
  },
  {
   "cell_type": "code",
   "execution_count": 7,
   "metadata": {},
   "outputs": [
    {
     "data": {
      "text/plain": [
       "['e:\\\\kdigital-data-analysis\\\\green-data-analysis\\\\workspace\\\\python-basic',\n",
       " 'c:\\\\ProgramData\\\\miniconda3\\\\envs\\\\kdt-da\\\\python39.zip',\n",
       " 'c:\\\\ProgramData\\\\miniconda3\\\\envs\\\\kdt-da\\\\DLLs',\n",
       " 'c:\\\\ProgramData\\\\miniconda3\\\\envs\\\\kdt-da\\\\lib',\n",
       " 'c:\\\\ProgramData\\\\miniconda3\\\\envs\\\\kdt-da',\n",
       " '',\n",
       " 'c:\\\\ProgramData\\\\miniconda3\\\\envs\\\\kdt-da\\\\lib\\\\site-packages',\n",
       " 'c:\\\\ProgramData\\\\miniconda3\\\\envs\\\\kdt-da\\\\lib\\\\site-packages\\\\win32',\n",
       " 'c:\\\\ProgramData\\\\miniconda3\\\\envs\\\\kdt-da\\\\lib\\\\site-packages\\\\win32\\\\lib',\n",
       " 'c:\\\\ProgramData\\\\miniconda3\\\\envs\\\\kdt-da\\\\lib\\\\site-packages\\\\Pythonwin']"
      ]
     },
     "execution_count": 7,
     "metadata": {},
     "output_type": "execute_result"
    }
   ],
   "source": [
    "import sys\n",
    "sys.path"
   ]
  },
  {
   "cell_type": "code",
   "execution_count": 1,
   "metadata": {},
   "outputs": [],
   "source": [
    "import my_module # my_module 파일 실행"
   ]
  },
  {
   "cell_type": "code",
   "execution_count": null,
   "metadata": {},
   "outputs": [],
   "source": []
  },
  {
   "cell_type": "code",
   "execution_count": 2,
   "metadata": {},
   "outputs": [
    {
     "name": "stdout",
     "output_type": "stream",
     "text": [
      "wave_function\n"
     ]
    }
   ],
   "source": [
    "# 패키지 사용\n",
    "import game.sound.wave\n",
    "\n",
    "game.sound.wave.wave_function()"
   ]
  },
  {
   "cell_type": "code",
   "execution_count": 3,
   "metadata": {},
   "outputs": [
    {
     "name": "stdout",
     "output_type": "stream",
     "text": [
      "wave_function\n"
     ]
    }
   ],
   "source": [
    "from game.sound import wave\n",
    "\n",
    "wave.wave_function()"
   ]
  },
  {
   "cell_type": "code",
   "execution_count": 6,
   "metadata": {},
   "outputs": [
    {
     "name": "stdout",
     "output_type": "stream",
     "text": [
      "wave_function\n"
     ]
    }
   ],
   "source": [
    "from game.sound.wave import wave_function\n",
    "\n",
    "wave_function()"
   ]
  },
  {
   "cell_type": "code",
   "execution_count": null,
   "metadata": {},
   "outputs": [],
   "source": []
  }
 ],
 "metadata": {
  "kernelspec": {
   "display_name": "kdt-da",
   "language": "python",
   "name": "python3"
  },
  "language_info": {
   "codemirror_mode": {
    "name": "ipython",
    "version": 3
   },
   "file_extension": ".py",
   "mimetype": "text/x-python",
   "name": "python",
   "nbconvert_exporter": "python",
   "pygments_lexer": "ipython3",
   "version": "3.9.16"
  },
  "orig_nbformat": 4
 },
 "nbformat": 4,
 "nbformat_minor": 2
}
