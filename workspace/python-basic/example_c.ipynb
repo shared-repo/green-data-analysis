{
 "cells": [
  {
   "cell_type": "code",
   "execution_count": 4,
   "metadata": {},
   "outputs": [],
   "source": [
    "# 주석 : 인터프리터가 해석하지 않는 영역 -> 설명을 위해서 사용하는 도구"
   ]
  },
  {
   "cell_type": "code",
   "execution_count": 11,
   "metadata": {},
   "outputs": [],
   "source": [
    "# 변수 만들기\n",
    "a = 10 # 이름이 a인 변수를 만들고 그 변수에 10을 저장\n",
    "b = 11.11\n",
    "c = 'this is string'"
   ]
  },
  {
   "cell_type": "code",
   "execution_count": 13,
   "metadata": {},
   "outputs": [
    {
     "name": "stdout",
     "output_type": "stream",
     "text": [
      "10\n",
      "11.11\n",
      "this is string\n"
     ]
    }
   ],
   "source": [
    "print(a) # 변수 a에 저장된 데이터를 읽어서 출력 (print)\n",
    "print(b)\n",
    "print(c)"
   ]
  },
  {
   "cell_type": "code",
   "execution_count": 16,
   "metadata": {},
   "outputs": [
    {
     "name": "stdout",
     "output_type": "stream",
     "text": [
      "<class 'int'>\n",
      "<class 'float'>\n",
      "<class 'str'>\n"
     ]
    }
   ],
   "source": [
    "print( type(a) ) # type(변수 or 데이터) : 변수 또는 데이터의 자료형을 확인하는 명령\n",
    "print( type(b) )\n",
    "print( type(c) )"
   ]
  },
  {
   "cell_type": "code",
   "execution_count": 21,
   "metadata": {},
   "outputs": [],
   "source": [
    "# 한 번에 여러 개의 값을 여러 개의 변수에 저장하는 명령\n",
    "# a2, b2, c2 = 120, 123.456, 'another string'\n",
    "# a2, b2, c2 = ( 120, 123.456, 'another string' )\n",
    "(a2, b2, c2) = 120, 123.456, 'another string'"
   ]
  },
  {
   "cell_type": "code",
   "execution_count": 22,
   "metadata": {},
   "outputs": [
    {
     "name": "stdout",
     "output_type": "stream",
     "text": [
      "120 <class 'int'>\n",
      "123.456 <class 'float'>\n",
      "another string <class 'str'>\n"
     ]
    }
   ],
   "source": [
    "print(a2, type(a2)) # print(변수1, 변수2) : 변수1, 변수2를 모두 출력\n",
    "print(b2, type(b2))\n",
    "print(c2, type(c2))"
   ]
  },
  {
   "cell_type": "code",
   "execution_count": 24,
   "metadata": {},
   "outputs": [
    {
     "ename": "NameError",
     "evalue": "name 'a2' is not defined",
     "output_type": "error",
     "traceback": [
      "\u001b[1;31m---------------------------------------------------------------------------\u001b[0m",
      "\u001b[1;31mNameError\u001b[0m                                 Traceback (most recent call last)",
      "Cell \u001b[1;32mIn[24], line 1\u001b[0m\n\u001b[1;32m----> 1\u001b[0m \u001b[39mdel\u001b[39;00m a2 \u001b[39m# 변수 제거\u001b[39;00m\n\u001b[0;32m      2\u001b[0m \u001b[39mprint\u001b[39m (a2) \u001b[39m# 오류 : 제거한 변수는 사용할 수 없습니다.\u001b[39;00m\n",
      "\u001b[1;31mNameError\u001b[0m: name 'a2' is not defined"
     ]
    }
   ],
   "source": [
    "del a2 # 변수 제거\n",
    "print (a2) # 오류 : 제거한 변수는 사용할 수 없습니다."
   ]
  },
  {
   "cell_type": "code",
   "execution_count": 31,
   "metadata": {},
   "outputs": [
    {
     "name": "stdout",
     "output_type": "stream",
     "text": [
      "30 200 -10 0.5\n",
      "1\n",
      "3.3333333333333335 3\n",
      "1000\n"
     ]
    }
   ],
   "source": [
    "a3 = 10\n",
    "b3 = 20\n",
    "c3 = 3\n",
    "print( a3 + b3, a3 * b3, a3 - b3, a3 / b3 ) # 수치 데이터 사칙 연산\n",
    "print( a3 % c3 ) # 나머지 연산\n",
    "print( a3 / c3, a3 // c3 ) # 나누기 연산(소숫점 이한 연산 O), 나누기 연산 (소숫점 이하 연산 X)\n",
    "print( 10 ** 2) # 거듭 제곱 연산 : 10의 2제곱"
   ]
  },
  {
   "cell_type": "code",
   "execution_count": 33,
   "metadata": {},
   "outputs": [
    {
     "name": "stdout",
     "output_type": "stream",
     "text": [
      "1020\n",
      "30\n"
     ]
    }
   ],
   "source": [
    "# 형변환\n",
    "a4, b4 = \"10\", \"20\"\n",
    "print (a4 + b4)\n",
    "print( int(a4) + int(b4) )"
   ]
  },
  {
   "cell_type": "code",
   "execution_count": 1,
   "metadata": {},
   "outputs": [],
   "source": [
    "# 문자열 데이터 \n",
    "a5 = \"string data 1\"\n",
    "b5 = 'string data 2'\n",
    "tmp = 'string ' + \\\n",
    "      'data'\n",
    "c3 = '''string\n",
    "        data''' # 여러 줄로 이루어진 문자열 표현 가능"
   ]
  },
  {
   "cell_type": "code",
   "execution_count": 2,
   "metadata": {},
   "outputs": [
    {
     "name": "stdout",
     "output_type": "stream",
     "text": [
      "string data 1\n",
      "string data 2\n",
      "string data\n",
      "string\n",
      "        data\n"
     ]
    }
   ],
   "source": [
    "print(a5)\n",
    "print(b5)\n",
    "print(tmp)\n",
    "print(c3)"
   ]
  },
  {
   "cell_type": "code",
   "execution_count": 3,
   "metadata": {},
   "outputs": [
    {
     "name": "stdout",
     "output_type": "stream",
     "text": [
      "Python is fun!\n"
     ]
    }
   ],
   "source": [
    "# 문자열과 문자열 더하기\n",
    "head = \"Python\"\n",
    "tail = \" is fun!\"\n",
    "print( head + tail )"
   ]
  },
  {
   "cell_type": "code",
   "execution_count": 5,
   "metadata": {},
   "outputs": [
    {
     "ename": "TypeError",
     "evalue": "can only concatenate str (not \"int\") to str",
     "output_type": "error",
     "traceback": [
      "\u001b[1;31m---------------------------------------------------------------------------\u001b[0m",
      "\u001b[1;31mTypeError\u001b[0m                                 Traceback (most recent call last)",
      "Cell \u001b[1;32mIn[5], line 2\u001b[0m\n\u001b[0;32m      1\u001b[0m \u001b[39m# 문자열과 숫자 더하기 (오류)\u001b[39;00m\n\u001b[1;32m----> 2\u001b[0m \u001b[39mprint\u001b[39m( \u001b[39m\"\u001b[39;49m\u001b[39m홍길동\u001b[39;49m\u001b[39m\"\u001b[39;49m \u001b[39m+\u001b[39;49m \u001b[39m10\u001b[39;49m )\n",
      "\u001b[1;31mTypeError\u001b[0m: can only concatenate str (not \"int\") to str"
     ]
    }
   ],
   "source": [
    "# 문자열과 숫자 더하기 (오류)\n",
    "print( \"홍길동\" + 10 )"
   ]
  },
  {
   "cell_type": "code",
   "execution_count": 6,
   "metadata": {},
   "outputs": [
    {
     "name": "stdout",
     "output_type": "stream",
     "text": [
      "PythonPythonPythonPythonPythonPythonPythonPythonPythonPython\n"
     ]
    }
   ],
   "source": [
    "#문자열과 숫자 곱하기 ( 반복 )\n",
    "print( \"Python\" * 10 )"
   ]
  },
  {
   "cell_type": "code",
   "execution_count": 7,
   "metadata": {},
   "outputs": [
    {
     "name": "stdout",
     "output_type": "stream",
     "text": [
      "==================================================\n",
      "My Program\n",
      "==================================================\n"
     ]
    }
   ],
   "source": [
    "print(\"=\" * 50)\n",
    "print(\"My Program\")\n",
    "print(\"=\" * 50)\n"
   ]
  },
  {
   "cell_type": "code",
   "execution_count": 9,
   "metadata": {},
   "outputs": [
    {
     "name": "stdout",
     "output_type": "stream",
     "text": [
      "i s o\n"
     ]
    }
   ],
   "source": [
    "# 문자열 indexing\n",
    "\n",
    "a = \"Life is too short, You need Python\"\n",
    "\n",
    "print(a[5], a[12], a[-2]) # 문자열[순서번호]"
   ]
  },
  {
   "cell_type": "code",
   "execution_count": 14,
   "metadata": {},
   "outputs": [
    {
     "name": "stdout",
     "output_type": "stream",
     "text": [
      "e is to\n",
      "Life is to\n",
      "Life is to\n",
      "o short, You need Python\n",
      "o short, You need Pyt\n"
     ]
    }
   ],
   "source": [
    "a = \"Life is too short, You need Python\"\n",
    "\n",
    "print(a[3:10]) # 3번째 문자부터 10번째 문자까지 뽑기 ( 범위표현에서 시작은 포함 끝은 포함되지 않습니다. )\n",
    "print(a[0:10])\n",
    "print(a[:10]) # 시작 인덱스 생략하면 0(처음부터)\n",
    "print(a[10:]) # 끝 인덱스 생략하면 마지막 데이터 까지\n",
    "print(a[10: -3])"
   ]
  },
  {
   "cell_type": "code",
   "execution_count": 17,
   "metadata": {},
   "outputs": [
    {
     "ename": "TypeError",
     "evalue": "'str' object does not support item assignment",
     "output_type": "error",
     "traceback": [
      "\u001b[1;31m---------------------------------------------------------------------------\u001b[0m",
      "\u001b[1;31mTypeError\u001b[0m                                 Traceback (most recent call last)",
      "Cell \u001b[1;32mIn[17], line 2\u001b[0m\n\u001b[0;32m      1\u001b[0m a \u001b[39m=\u001b[39m \u001b[39m\"\u001b[39m\u001b[39mLife is too short, You need Python\u001b[39m\u001b[39m\"\u001b[39m\n\u001b[1;32m----> 2\u001b[0m a[\u001b[39m12\u001b[39;49m] \u001b[39m=\u001b[39m \u001b[39m\"\u001b[39m\u001b[39mS\u001b[39m\u001b[39m\"\u001b[39m \u001b[39m# 문자열의 부분 요소는 변경할 수 없습니다.\u001b[39;00m\n",
      "\u001b[1;31mTypeError\u001b[0m: 'str' object does not support item assignment"
     ]
    }
   ],
   "source": [
    "a = \"Life is too short, You need Python\"\n",
    "a[12] = \"S\" # 문자열의 부분 요소는 변경할 수 없습니다."
   ]
  },
  {
   "cell_type": "code",
   "execution_count": 18,
   "metadata": {},
   "outputs": [
    {
     "ename": "TypeError",
     "evalue": "can only concatenate str (not \"int\") to str",
     "output_type": "error",
     "traceback": [
      "\u001b[1;31m---------------------------------------------------------------------------\u001b[0m",
      "\u001b[1;31mTypeError\u001b[0m                                 Traceback (most recent call last)",
      "Cell \u001b[1;32mIn[18], line 1\u001b[0m\n\u001b[1;32m----> 1\u001b[0m \u001b[39mprint\u001b[39m( \u001b[39m\"\u001b[39;49m\u001b[39m현재 시간은 \u001b[39;49m\u001b[39m\"\u001b[39;49m \u001b[39m+\u001b[39;49m \u001b[39m12\u001b[39;49m \u001b[39m+\u001b[39m \u001b[39m\"\u001b[39m\u001b[39m시\u001b[39m\u001b[39m\"\u001b[39m \u001b[39m+\u001b[39m \u001b[39m20\u001b[39m \u001b[39m+\u001b[39m \u001b[39m\"\u001b[39m\u001b[39m분 입니다.\u001b[39m\u001b[39m\"\u001b[39m )\n",
      "\u001b[1;31mTypeError\u001b[0m: can only concatenate str (not \"int\") to str"
     ]
    }
   ],
   "source": [
    "print( \"현재 시간은 \" + 12 + \"시\" + 20 + \"분 입니다.\" ) # 오류 : 숫자와 문자열을 결합 연산할 수 없습니다."
   ]
  },
  {
   "cell_type": "code",
   "execution_count": 23,
   "metadata": {},
   "outputs": [
    {
     "name": "stdout",
     "output_type": "stream",
     "text": [
      "현재 시간은 12 시 40분 입니다.\n",
      "현재 시간은 12 시 40분 입니다.\n",
      "현재 시간은 12 시 40분 입니다.\n",
      "현재 시간은 12 시 40분 입니다.\n"
     ]
    }
   ],
   "source": [
    "# 문자열 포맷팅 : 문자열과 다른 데이터를 결합하는 방식\n",
    "\n",
    "hour, minute = 12, 40\n",
    "\n",
    "message = \"현재 시간은 %d 시 %d분 입니다.\"%(hour, minute)\n",
    "print(message)\n",
    "\n",
    "message2 = \"현재 시간은 {1} 시 {0}분 입니다.\".format(minute, hour)\n",
    "print(message2)\n",
    "\n",
    "message3 = \"현재 시간은 {h} 시 {m}분 입니다.\".format(h=hour, m=minute)\n",
    "print(message3)\n",
    "\n",
    "message4 = f\"현재 시간은 {hour} 시 {minute}분 입니다.\"\n",
    "print(message4)"
   ]
  },
  {
   "cell_type": "code",
   "execution_count": 33,
   "metadata": {},
   "outputs": [
    {
     "name": "stdout",
     "output_type": "stream",
     "text": [
      "34\n",
      "1\n",
      "9\n",
      "9\n",
      "LIFE IS TOO SHORT, YOU NEED PYTHON\n",
      "life is too short, you need python\n"
     ]
    }
   ],
   "source": [
    "# 문자열 지원 함수(명령)\n",
    "message = \"Life is too short, You need Python\"\n",
    "\n",
    "print(len(message)) # len : 문자 갯수\n",
    "print(message.count(\"oo\")) # count : 문자(열) 찾기 ( 갯수 반환 )\n",
    "print(message.find('o')) # find : 문자(열) 찾기 ( 위치 반환  ) -> 없으면 -1\n",
    "print(message.index('o')) # index : 문자(열) 찾기 ( 위치 반환 ) -> 없으면 오류 발생\n",
    "print(message.upper()) # 모두 대문자로 변환\n",
    "print(message.lower()) # 모두 소문자로 변환"
   ]
  },
  {
   "cell_type": "code",
   "execution_count": 37,
   "metadata": {},
   "outputs": [
    {
     "name": "stdout",
     "output_type": "stream",
     "text": [
      "['red', 'orange', 'yello', 'green', 'blue', 'navy', 'purple']\n",
      "green ,\n",
      "red$orange$yello$green$blue$navy$purple\n"
     ]
    }
   ],
   "source": [
    "# 문자열 지원 함수(명령)\n",
    "color_string = \"red,orange,yello,green,blue,navy,purple\"\n",
    "colors = color_string.split(\",\") # color_string을 ,를 기준으로 분할해서 집합 데이터로 반환\n",
    "print(colors)\n",
    "print(colors[3], color_string[3])\n",
    "\n",
    "# colors.join(\"$\")\n",
    "color_string2 = \"$\".join(colors) # colors 집합의 각 요소를 $를 넣어서 문자열로 결합\n",
    "print(color_string2)"
   ]
  },
  {
   "cell_type": "code",
   "execution_count": 41,
   "metadata": {},
   "outputs": [
    {
     "name": "stdout",
     "output_type": "stream",
     "text": [
      "12\n",
      "10\n",
      "11\n",
      " 01234중간데이터6789 \n"
     ]
    }
   ],
   "source": [
    "number_string = \" 0123456789 \"\n",
    "print(len(number_string))\n",
    "stripped_string = number_string.strip() # strip : 문자열 양 끝에서 space 제거 ( lstrip, rstrip 참고)\n",
    "print(len(stripped_string))\n",
    "print(len(number_string.lstrip()))\n",
    "\n",
    "replaced_string = number_string.replace(\"5\", \"중간데이터\") # 문자열에서 \"5\"를 \"중간데이터\"로 교체\n",
    "print(replaced_string)"
   ]
  },
  {
   "cell_type": "code",
   "execution_count": null,
   "metadata": {},
   "outputs": [],
   "source": [
    "# 1번의 print 함수 호출로 아래와 같이 출력\n",
    "# 이름 :    \"홍길동\"입니다.\n",
    "# 이메일 :  \"hkd@example.com\"입니다.\n",
    "# 전화 :    \"010-6521-7876\"입니다.\n",
    "\n",
    "print(\"이름 :\\t\\\"홍길동\\\"입니다.\\n이메일 :\\t\\\"hkd@example.com\\\"입니다.\\n전화 :\\t\\\"010-6521-7876\\\"입니다.\")"
   ]
  }
 ],
 "metadata": {
  "kernelspec": {
   "display_name": "kdt-da",
   "language": "python",
   "name": "python3"
  },
  "language_info": {
   "codemirror_mode": {
    "name": "ipython",
    "version": 3
   },
   "file_extension": ".py",
   "mimetype": "text/x-python",
   "name": "python",
   "nbconvert_exporter": "python",
   "pygments_lexer": "ipython3",
   "version": "3.9.16"
  },
  "orig_nbformat": 4,
  "vscode": {
   "interpreter": {
    "hash": "c9221201770ea10d45d5e5cf776327d4937085cc3387a27f927bd26f919beca3"
   }
  }
 },
 "nbformat": 4,
 "nbformat_minor": 2
}
