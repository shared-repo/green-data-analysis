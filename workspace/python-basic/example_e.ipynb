{
 "cells": [
  {
   "cell_type": "code",
   "execution_count": 2,
   "metadata": {},
   "outputs": [
    {
     "name": "stdout",
     "output_type": "stream",
     "text": [
      "평균 : 70.0\n",
      "평균 : 70.0\n"
     ]
    }
   ],
   "source": [
    "# 1. 국어 : 80, 영어 : 75, 수학 : 55 -> 평균 구하기\n",
    "kor = 80\n",
    "eng = 75\n",
    "mat = 55\n",
    "\n",
    "total = kor + eng + mat\n",
    "mean = total / 3\n",
    "print( \"평균 : {0}\".format(mean) )\n",
    "\n",
    "print( \"평균 : {0}\".format( (kor + eng + mat) / 3 ))"
   ]
  },
  {
   "cell_type": "code",
   "execution_count": 4,
   "metadata": {},
   "outputs": [
    {
     "name": "stdout",
     "output_type": "stream",
     "text": [
      "1\n",
      "False\n"
     ]
    }
   ],
   "source": [
    "# 2. 자연수 13이 홀수/짝수 검사\n",
    "\n",
    "print( 13 % 2 ) # 결과가 1이면 홀수, 0이면 짝수\n",
    "print( 13 % 2 == 0 ) # a == b : a와 b가 같으면 True, 다르면 False\n"
   ]
  },
  {
   "cell_type": "code",
   "execution_count": 8,
   "metadata": {},
   "outputs": [
    {
     "name": "stdout",
     "output_type": "stream",
     "text": [
      "881120 1068234\n"
     ]
    }
   ],
   "source": [
    "# 3. 주민번호 881120-1068234에서 생년월일과 식별번호로 나누어서 출력\n",
    "jumin_bunho = \"881120-1068234\"\n",
    "\n",
    "# yyyymmdd = jumin_bunho[:6]\n",
    "# num = jumin_bunho[7:]\n",
    "# print(yyyymmdd, num)\n",
    "\n",
    "dash_idx = jumin_bunho.index(\"-\")\n",
    "yyyymmdd = jumin_bunho[:dash_idx]\n",
    "num = jumin_bunho[dash_idx + 1:]\n",
    "print(yyyymmdd, num)\n",
    "\n",
    "# data = jumin_bunho.split(\"-\") -> (\"881120\", \"1068234\")\n",
    "# print(data[0], data[1])\n"
   ]
  },
  {
   "cell_type": "code",
   "execution_count": 10,
   "metadata": {},
   "outputs": [
    {
     "name": "stdout",
     "output_type": "stream",
     "text": [
      "0\n"
     ]
    }
   ],
   "source": [
    "# 4. 주민번호 881120-1068234에서 성별을 나타내는 값을 출력\n",
    "jumin_bunho = \"8811201-068234\"\n",
    "\n",
    "print( jumin_bunho[8] )"
   ]
  },
  {
   "cell_type": "code",
   "execution_count": 11,
   "metadata": {},
   "outputs": [
    {
     "name": "stdout",
     "output_type": "stream",
     "text": [
      "a#b#c#d\n"
     ]
    }
   ],
   "source": [
    "# 5. a:b:c:d -> a#b#c#d\n",
    "\n",
    "source = \"a:b:c:d\"\n",
    "print( source.replace(\":\", \"#\") )"
   ]
  },
  {
   "cell_type": "code",
   "execution_count": 13,
   "metadata": {},
   "outputs": [
    {
     "name": "stdout",
     "output_type": "stream",
     "text": [
      "[5, 4, 3, 2, 1]\n"
     ]
    }
   ],
   "source": [
    "# 6. [1, 3, 5, 4, 2] => [ 5, 4, 3, 2, 1 ]\n",
    "\n",
    "ar = [1, 3, 5, 4, 2]\n",
    "# ar.sort()\n",
    "# ar.reverse()\n",
    "ar.sort(reverse=True)\n",
    "print(ar)"
   ]
  },
  {
   "cell_type": "code",
   "execution_count": 14,
   "metadata": {},
   "outputs": [
    {
     "name": "stdout",
     "output_type": "stream",
     "text": [
      "Lift is too short\n"
     ]
    }
   ],
   "source": [
    "# 7. ['Life', 'is', 'too', 'short'] -> 'Life is too short'\n",
    "\n",
    "ar2 = ['Life', 'is', 'too', 'short']\n",
    "print( ' '.join(ar2) )"
   ]
  },
  {
   "cell_type": "code",
   "execution_count": 25,
   "metadata": {},
   "outputs": [
    {
     "name": "stdout",
     "output_type": "stream",
     "text": [
      "(1, 2, 3, 4)\n"
     ]
    }
   ],
   "source": [
    "# 8. Tuple (1, 2, 3) 에 4를 추가해서 (1, 2, 3, 4)\n",
    "a = (1, 2, 3)\n",
    "# a = a + (4,)\n",
    "a = list(a)\n",
    "a.append(4)\n",
    "a = tuple( a )\n",
    "print(a)"
   ]
  },
  {
   "cell_type": "code",
   "execution_count": 5,
   "metadata": {},
   "outputs": [
    {
     "ename": "TypeError",
     "evalue": "unhashable type: 'list'",
     "output_type": "error",
     "traceback": [
      "\u001b[1;31m---------------------------------------------------------------------------\u001b[0m",
      "\u001b[1;31mTypeError\u001b[0m                                 Traceback (most recent call last)",
      "Cell \u001b[1;32mIn[5], line 5\u001b[0m\n\u001b[0;32m      3\u001b[0m a[\u001b[39m'\u001b[39m\u001b[39mname\u001b[39m\u001b[39m'\u001b[39m] \u001b[39m=\u001b[39m \u001b[39m'\u001b[39m\u001b[39mjohn doe\u001b[39m\u001b[39m'\u001b[39m \u001b[39m# key : 문자열\u001b[39;00m\n\u001b[0;32m      4\u001b[0m a[(\u001b[39m'\u001b[39m\u001b[39ma\u001b[39m\u001b[39m'\u001b[39m,)] \u001b[39m=\u001b[39m \u001b[39m'\u001b[39m\u001b[39mtuple key\u001b[39m\u001b[39m'\u001b[39m \u001b[39m# key : tuple\u001b[39;00m\n\u001b[1;32m----> 5\u001b[0m a[[\u001b[39m1\u001b[39;49m]] \u001b[39m=\u001b[39m \u001b[39m'\u001b[39m\u001b[39mlist key\u001b[39m\u001b[39m'\u001b[39m \u001b[39m# key : list\u001b[39;00m\n\u001b[0;32m      6\u001b[0m a[\u001b[39m250\u001b[39m] \u001b[39m=\u001b[39m \u001b[39m'\u001b[39m\u001b[39mint key\u001b[39m\u001b[39m'\u001b[39m \u001b[39m# key : 숫자\u001b[39;00m\n",
      "\u001b[1;31mTypeError\u001b[0m: unhashable type: 'list'"
     ]
    }
   ],
   "source": [
    "# 9. dictionary의 key로 사용할 수 있는 값의 자료형\n",
    "a = dict()\n",
    "a['name'] = 'john doe' # key : 문자열\n",
    "a[('a',)] = 'tuple key' # key : tuple\n",
    "a[250] = 'int key' # key : 숫자\n",
    "a[[1]] = 'list key' # key : list : 오류 -> key는 값을 변경할 수 없는 자료형"
   ]
  },
  {
   "cell_type": "code",
   "execution_count": 7,
   "metadata": {},
   "outputs": [
    {
     "name": "stdout",
     "output_type": "stream",
     "text": [
      "{'A': 90, 'B': 80, 'C': 70} 80 80\n"
     ]
    }
   ],
   "source": [
    "# 10. dict의 값 읽기\n",
    "a = { 'A': 90, 'B': 80, 'C': 70 }\n",
    "result1 = a['B']\n",
    "result2 = a.get('B', 0)\n",
    "print(a, result1, result2)"
   ]
  },
  {
   "cell_type": "code",
   "execution_count": 8,
   "metadata": {},
   "outputs": [
    {
     "name": "stdout",
     "output_type": "stream",
     "text": [
      "[1, 2, 3, 4, 5]\n"
     ]
    }
   ],
   "source": [
    "# 11. list에서 중복 제거\n",
    "a = [1, 1, 1, 2, 2, 3, 3, 3, 4, 4, 5]\n",
    "s = set(a)\n",
    "a = list(s)\n",
    "print(a)"
   ]
  },
  {
   "cell_type": "code",
   "execution_count": 11,
   "metadata": {},
   "outputs": [
    {
     "name": "stdout",
     "output_type": "stream",
     "text": [
      "[1, 2, 3] [1, 2, 3]\n",
      "[1, 20, 3] [1, 20, 3]\n"
     ]
    }
   ],
   "source": [
    "# 12. 참조와 값의 구조 확인\n",
    "\n",
    "a = b = [1, 2, 3]\n",
    "print(a, b)\n",
    "\n",
    "a[1] = 20\n",
    "print(a, b)"
   ]
  },
  {
   "cell_type": "code",
   "execution_count": null,
   "metadata": {},
   "outputs": [],
   "source": []
  }
 ],
 "metadata": {
  "kernelspec": {
   "display_name": "kdt-da",
   "language": "python",
   "name": "python3"
  },
  "language_info": {
   "codemirror_mode": {
    "name": "ipython",
    "version": 3
   },
   "file_extension": ".py",
   "mimetype": "text/x-python",
   "name": "python",
   "nbconvert_exporter": "python",
   "pygments_lexer": "ipython3",
   "version": "3.9.16"
  },
  "orig_nbformat": 4
 },
 "nbformat": 4,
 "nbformat_minor": 2
}
