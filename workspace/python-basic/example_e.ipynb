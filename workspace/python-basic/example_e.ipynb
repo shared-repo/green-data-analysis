{
 "cells": [
  {
   "cell_type": "code",
   "execution_count": 2,
   "metadata": {},
   "outputs": [
    {
     "name": "stdout",
     "output_type": "stream",
     "text": [
      "평균 : 70.0\n",
      "평균 : 70.0\n"
     ]
    }
   ],
   "source": [
    "# 1. 국어 : 80, 영어 : 75, 수학 : 55 -> 평균 구하기\n",
    "kor = 80\n",
    "eng = 75\n",
    "mat = 55\n",
    "\n",
    "total = kor + eng + mat\n",
    "mean = total / 3\n",
    "print( \"평균 : {0}\".format(mean) )\n",
    "\n",
    "print( \"평균 : {0}\".format( (kor + eng + mat) / 3 ))"
   ]
  },
  {
   "cell_type": "code",
   "execution_count": 4,
   "metadata": {},
   "outputs": [
    {
     "name": "stdout",
     "output_type": "stream",
     "text": [
      "1\n",
      "False\n"
     ]
    }
   ],
   "source": [
    "# 2. 자연수 13이 홀수/짝수 검사\n",
    "\n",
    "print( 13 % 2 ) # 결과가 1이면 홀수, 0이면 짝수\n",
    "print( 13 % 2 == 0 ) # a == b : a와 b가 같으면 True, 다르면 False\n"
   ]
  },
  {
   "cell_type": "code",
   "execution_count": 8,
   "metadata": {},
   "outputs": [
    {
     "name": "stdout",
     "output_type": "stream",
     "text": [
      "881120 1068234\n"
     ]
    }
   ],
   "source": [
    "# 3. 주민번호 881120-1068234에서 생년월일과 식별번호로 나누어서 출력\n",
    "jumin_bunho = \"881120-1068234\"\n",
    "\n",
    "# yyyymmdd = jumin_bunho[:6]\n",
    "# num = jumin_bunho[7:]\n",
    "# print(yyyymmdd, num)\n",
    "\n",
    "dash_idx = jumin_bunho.index(\"-\")\n",
    "yyyymmdd = jumin_bunho[:dash_idx]\n",
    "num = jumin_bunho[dash_idx + 1:]\n",
    "print(yyyymmdd, num)\n",
    "\n",
    "# data = jumin_bunho.split(\"-\") -> (\"881120\", \"1068234\")\n",
    "# print(data[0], data[1])\n"
   ]
  }
 ],
 "metadata": {
  "kernelspec": {
   "display_name": "kdt-da",
   "language": "python",
   "name": "python3"
  },
  "language_info": {
   "codemirror_mode": {
    "name": "ipython",
    "version": 3
   },
   "file_extension": ".py",
   "mimetype": "text/x-python",
   "name": "python",
   "nbconvert_exporter": "python",
   "pygments_lexer": "ipython3",
   "version": "3.9.16"
  },
  "orig_nbformat": 4
 },
 "nbformat": 4,
 "nbformat_minor": 2
}
