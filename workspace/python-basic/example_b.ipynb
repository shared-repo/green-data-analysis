{
 "cells": [
  {
   "cell_type": "code",
   "execution_count": 1,
   "metadata": {},
   "outputs": [
    {
     "name": "stdout",
     "output_type": "stream",
     "text": [
      "Hello, jupyter !!!!!\n",
      "Second command is here\n"
     ]
    }
   ],
   "source": [
    "print(\"Hello, jupyter !!!!!\")\n",
    "print(\"Second command is here\")"
   ]
  }
 ],
 "metadata": {
  "kernelspec": {
   "display_name": "kdt-da2",
   "language": "python",
   "name": "python3"
  },
  "language_info": {
   "codemirror_mode": {
    "name": "ipython",
    "version": 3
   },
   "file_extension": ".py",
   "mimetype": "text/x-python",
   "name": "python",
   "nbconvert_exporter": "python",
   "pygments_lexer": "ipython3",
   "version": "3.8.16"
  },
  "orig_nbformat": 4,
  "vscode": {
   "interpreter": {
    "hash": "9838da10aaff3c1217d11925679ddd6ec20d04cc5b21e3aebd3eed0e09c20082"
   }
  }
 },
 "nbformat": 4,
 "nbformat_minor": 2
}
