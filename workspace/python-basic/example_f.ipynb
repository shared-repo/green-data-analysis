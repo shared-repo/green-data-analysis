{
 "cells": [
  {
   "cell_type": "code",
   "execution_count": 1,
   "metadata": {},
   "outputs": [
    {
     "name": "stdout",
     "output_type": "stream",
     "text": [
      "1 - Got a true expression value\n",
      "100\n",
      "Good bye!\n"
     ]
    }
   ],
   "source": [
    "# 단순 if statment\n",
    "\n",
    "var1 = 100\n",
    "if var1: # 100은 True로 평가\n",
    "    print (\"1 - Got a true expression value\")\n",
    "    print (var1)\n",
    "\n",
    "var2 = 0\n",
    "if var2: # 0은 False로 평가\n",
    "    print (\"2 - Got a true expression value\")\n",
    "    print (var2)\n",
    "\n",
    "print (\"Good bye!\")"
   ]
  },
  {
   "cell_type": "code",
   "execution_count": 38,
   "metadata": {},
   "outputs": [
    {
     "name": "stdout",
     "output_type": "stream",
     "text": [
      "0.14536185653258804\n",
      "9\n"
     ]
    }
   ],
   "source": [
    "# 난수(무작위 선택 값) 발생\n",
    "\n",
    "import random # random 모듈 사용 선언\n",
    "\n",
    "r_value = random.random()\n",
    "print(r_value)\n",
    "\n",
    "r_value = random.randint(0, 10)\n",
    "print(r_value)"
   ]
  },
  {
   "cell_type": "code",
   "execution_count": 93,
   "metadata": {},
   "outputs": [
    {
     "name": "stdout",
     "output_type": "stream",
     "text": [
      "선택된 값은 50입니다.\n",
      "50\n",
      "end of code\n"
     ]
    }
   ],
   "source": [
    "# 1 ~ 100 사이의 난수 발생 -> 50보다 크면 큽니다 출력, 작으면 작습니다. 출력\n",
    "# r_value = random.randint(1, 99)\n",
    "r_value = int(random.random() * 99) + 1\n",
    "# r_value = 50\n",
    "if r_value > 50:\n",
    "    print(\"선택된 값은 50보다 큽니다.\")\n",
    "elif r_value == 50:\n",
    "    print(\"선택된 값은 50입니다.\")\n",
    "else: # r_value >= 50이 아닌 경우\n",
    "    print(\"선택된 값은 50보다 작습니다.\")\n",
    "    \n",
    "print(r_value)\n",
    "print(\"end of code\")"
   ]
  }
 ],
 "metadata": {
  "kernelspec": {
   "display_name": "kdt-da",
   "language": "python",
   "name": "python3"
  },
  "language_info": {
   "codemirror_mode": {
    "name": "ipython",
    "version": 3
   },
   "file_extension": ".py",
   "mimetype": "text/x-python",
   "name": "python",
   "nbconvert_exporter": "python",
   "pygments_lexer": "ipython3",
   "version": "3.9.16"
  },
  "orig_nbformat": 4
 },
 "nbformat": 4,
 "nbformat_minor": 2
}
