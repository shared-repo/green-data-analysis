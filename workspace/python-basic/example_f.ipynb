{
 "cells": [
  {
   "cell_type": "code",
   "execution_count": 1,
   "metadata": {},
   "outputs": [
    {
     "name": "stdout",
     "output_type": "stream",
     "text": [
      "1 - Got a true expression value\n",
      "100\n",
      "Good bye!\n"
     ]
    }
   ],
   "source": [
    "# 단순 if statment\n",
    "\n",
    "var1 = 100\n",
    "if var1: # 100은 True로 평가\n",
    "    print (\"1 - Got a true expression value\")\n",
    "    print (var1)\n",
    "\n",
    "var2 = 0\n",
    "if var2: # 0은 False로 평가\n",
    "    print (\"2 - Got a true expression value\")\n",
    "    print (var2)\n",
    "\n",
    "print (\"Good bye!\")"
   ]
  },
  {
   "cell_type": "code",
   "execution_count": 18,
   "metadata": {},
   "outputs": [
    {
     "name": "stdout",
     "output_type": "stream",
     "text": [
      "0.36429308007906125\n"
     ]
    }
   ],
   "source": [
    "# 난수(무작위 선택 값) 발생\n",
    "import random\n",
    "\n",
    "r_value = random.random()\n",
    "print(r_value)\n",
    "\n"
   ]
  }
 ],
 "metadata": {
  "kernelspec": {
   "display_name": "kdt-da",
   "language": "python",
   "name": "python3"
  },
  "language_info": {
   "codemirror_mode": {
    "name": "ipython",
    "version": 3
   },
   "file_extension": ".py",
   "mimetype": "text/x-python",
   "name": "python",
   "nbconvert_exporter": "python",
   "pygments_lexer": "ipython3",
   "version": "3.9.16"
  },
  "orig_nbformat": 4
 },
 "nbformat": 4,
 "nbformat_minor": 2
}
