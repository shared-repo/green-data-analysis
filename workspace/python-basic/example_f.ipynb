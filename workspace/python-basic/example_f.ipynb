{
 "cells": [
  {
   "cell_type": "code",
   "execution_count": 1,
   "metadata": {},
   "outputs": [
    {
     "name": "stdout",
     "output_type": "stream",
     "text": [
      "1 - Got a true expression value\n",
      "100\n",
      "Good bye!\n"
     ]
    }
   ],
   "source": [
    "# 단순 if statment\n",
    "\n",
    "var1 = 100\n",
    "if var1: # 100은 True로 평가\n",
    "    print (\"1 - Got a true expression value\")\n",
    "    print (var1)\n",
    "\n",
    "var2 = 0\n",
    "if var2: # 0은 False로 평가\n",
    "    print (\"2 - Got a true expression value\")\n",
    "    print (var2)\n",
    "\n",
    "print (\"Good bye!\")"
   ]
  },
  {
   "cell_type": "code",
   "execution_count": 38,
   "metadata": {},
   "outputs": [
    {
     "name": "stdout",
     "output_type": "stream",
     "text": [
      "0.14536185653258804\n",
      "9\n"
     ]
    }
   ],
   "source": [
    "# 난수(무작위 선택 값) 발생\n",
    "\n",
    "import random # random 모듈 사용 선언\n",
    "\n",
    "r_value = random.random()\n",
    "print(r_value)\n",
    "\n",
    "r_value = random.randint(0, 10)\n",
    "print(r_value)"
   ]
  },
  {
   "cell_type": "code",
   "execution_count": 93,
   "metadata": {},
   "outputs": [
    {
     "name": "stdout",
     "output_type": "stream",
     "text": [
      "선택된 값은 50입니다.\n",
      "50\n",
      "end of code\n"
     ]
    }
   ],
   "source": [
    "# 1 ~ 100 사이의 난수 발생 -> 50보다 크면 큽니다 출력, 작으면 작습니다. 출력\n",
    "# r_value = random.randint(1, 99)\n",
    "r_value = int(random.random() * 99) + 1\n",
    "# r_value = 50\n",
    "if r_value > 50:\n",
    "    print(\"선택된 값은 50보다 큽니다.\")\n",
    "elif r_value == 50:\n",
    "    print(\"선택된 값은 50입니다.\")\n",
    "else: # r_value >= 50이 아닌 경우\n",
    "    print(\"선택된 값은 50보다 작습니다.\")\n",
    "    \n",
    "print(r_value)\n",
    "print(\"end of code\")"
   ]
  },
  {
   "cell_type": "code",
   "execution_count": 94,
   "metadata": {},
   "outputs": [
    {
     "name": "stdout",
     "output_type": "stream",
     "text": [
      "홍길동\n"
     ]
    }
   ],
   "source": [
    "# input(message) : 사용자로부터 키보드 입력을 받는 명령 (입력 값은 항상 문자열)\n",
    "name = input(\"이름을 입력하세요\")\n",
    "print(name)"
   ]
  },
  {
   "cell_type": "code",
   "execution_count": 101,
   "metadata": {},
   "outputs": [
    {
     "name": "stdout",
     "output_type": "stream",
     "text": [
      "Discount :  1500.0\n"
     ]
    }
   ],
   "source": [
    "#수량 입력\n",
    "amount = int( input(\"수량을 입력하세요\") )\n",
    "\n",
    "if amount < 1000:\n",
    "    discount = amount * 0.05\n",
    "elif amount < 5000:\n",
    "    discount = amount * 0.1\n",
    "else:\n",
    "    discount = amount * 0.15\n",
    "\n",
    "print(\"Discount : \", discount)"
   ]
  },
  {
   "cell_type": "code",
   "execution_count": 108,
   "metadata": {},
   "outputs": [
    {
     "name": "stdout",
     "output_type": "stream",
     "text": [
      "YOU : 2, COMPUTER : 2, RESULT : DRAW\n"
     ]
    }
   ],
   "source": [
    "# 가위 바위 보 게임\n",
    "# 1. random 사용해서 1-가위 or 2-바위 or 3-보 을 컴퓨터의 값으로 저장 (변수 만들기)\n",
    "# 2. 사용자 입력 (1 or 2 or 3)을 사용자의 값으로 저장 (변수 만들기)\n",
    "# 3. 사용자의 값과 컴퓨터의 값을 비교해서 사용자의 승무패 결정\n",
    "# 4. 결과 출력\n",
    "\n",
    "# 1. \n",
    "import random\n",
    "com_value = random.randint(1, 3)\n",
    "\n",
    "# 2. \n",
    "user_value = input('1: 가위, 2: 바위, 3: 보를 선택하세요 (1 or 2 or 3 입력) : ')\n",
    "user_value = int(user_value)\n",
    "\n",
    "# 3.\n",
    "if (user_value == 1 and com_value == 3) or \\\n",
    "   (user_value == 2 and com_value == 1) or \\\n",
    "   (user_value == 3 and com_value == 2) :\n",
    "    result = \"WIN\"\n",
    "elif user_value == com_value:\n",
    "    result = \"DRAW\"\n",
    "else:\n",
    "    result = \"LOSE\"\n",
    "\n",
    "print(\"YOU : {0}, COMPUTER : {1}, RESULT : {2}\".format(user_value, com_value, result))"
   ]
  },
  {
   "cell_type": "code",
   "execution_count": 107,
   "metadata": {},
   "outputs": [
    {
     "name": "stdout",
     "output_type": "stream",
     "text": [
      "나무를 1번 찍었습니다.\n",
      "나무를 2번 찍었습니다.\n",
      "나무를 3번 찍었습니다.\n",
      "나무를 4번 찍었습니다.\n",
      "나무를 5번 찍었습니다.\n",
      "나무를 6번 찍었습니다.\n",
      "나무를 7번 찍었습니다.\n",
      "나무를 8번 찍었습니다.\n",
      "나무를 9번 찍었습니다.\n",
      "나무를 10번 찍었습니다.\n",
      "나무 넘어갑니다.\n"
     ]
    }
   ],
   "source": [
    "# while 문 연습\n",
    "\n",
    "treeHit = 0\n",
    "while treeHit < 10:\n",
    "    treeHit = treeHit + 1\n",
    "    print(\"나무를 %d번 찍었습니다.\" % treeHit)\n",
    "    if treeHit == 10:\n",
    "        print(\"나무 넘어갑니다.\")\n"
   ]
  },
  {
   "cell_type": "code",
   "execution_count": 110,
   "metadata": {},
   "outputs": [
    {
     "name": "stdout",
     "output_type": "stream",
     "text": [
      "YOU : 2, COMPUTER : 2, RESULT : DRAW\n",
      "YOU : 2, COMPUTER : 1, RESULT : WIN\n",
      "YOU : 2, COMPUTER : 1, RESULT : WIN\n",
      "프로그램을 종료합니다.\n",
      "End of Program\n"
     ]
    }
   ],
   "source": [
    "# 가위 바위 보 게임 버전 2\n",
    "\n",
    "again = True\n",
    "while again:\n",
    "    selection = input(\"1.게임시작   2.종료 ( 작업을 선택하세요 ) : \")\n",
    "    if selection == \"1\":\n",
    "        # 1. \n",
    "        import random\n",
    "        com_value = random.randint(1, 3)\n",
    "\n",
    "        # 2. \n",
    "        user_value = input('1: 가위, 2: 바위, 3: 보를 선택하세요 (1 or 2 or 3 입력) : ')\n",
    "        user_value = int(user_value)\n",
    "\n",
    "        # 3.\n",
    "        if (user_value == 1 and com_value == 3) or \\\n",
    "           (user_value == 2 and com_value == 1) or \\\n",
    "           (user_value == 3 and com_value == 2) :\n",
    "            result = \"WIN\"\n",
    "        elif user_value == com_value:\n",
    "            result = \"DRAW\"\n",
    "        else:\n",
    "            result = \"LOSE\"\n",
    "\n",
    "        print(\"YOU : {0}, COMPUTER : {1}, RESULT : {2}\".format(user_value, com_value, result))\n",
    "        pass\n",
    "    elif selection == \"2\":\n",
    "        print( \"프로그램을 종료합니다.\" )\n",
    "        again = False\n",
    "    else:\n",
    "        print( \"지원하지 않는 명령입니다.\" )\n",
    "    pass # 실행 내용은 없고 구문 구조를 갖추기 위해 사용하는 예약어\n",
    "\n",
    "print( \"End of Program\" )\n"
   ]
  },
  {
   "cell_type": "code",
   "execution_count": 111,
   "metadata": {},
   "outputs": [
    {
     "name": "stdout",
     "output_type": "stream",
     "text": [
      "게임 로직 코드 실행 영역\n",
      "프로그램을 종료합니다.\n",
      "End of Program\n"
     ]
    }
   ],
   "source": [
    "# 가위 바위 보 게임 버전 2\n",
    "\n",
    "while True: # 무한루프 ( 반드시 반복문 내부에 탈출 기능을 구현해야 합니다. )\n",
    "    selection = input(\"1.게임시작   2.종료 ( 작업을 선택하세요 ) : \")\n",
    "    if selection == \"1\":\n",
    "        print(\"게임 로직 코드 실행 영역\")\n",
    "        pass\n",
    "    elif selection == \"2\":\n",
    "        print( \"프로그램을 종료합니다.\" )\n",
    "        break # 반복문을 중단하는 명령\n",
    "    else:\n",
    "        print( \"지원하지 않는 명령입니다.\" )\n",
    "    pass # 실행 내용은 없고 구문 구조를 갖추기 위해 사용하는 예약어\n",
    "\n",
    "print( \"End of Program\" )"
   ]
  },
  {
   "cell_type": "code",
   "execution_count": 115,
   "metadata": {},
   "outputs": [
    {
     "name": "stdout",
     "output_type": "stream",
     "text": [
      "SUM : 25\n"
     ]
    }
   ],
   "source": [
    "# 1 ~ 10 사이의 홀수의 합 계산\n",
    "sum_value = 0\n",
    "idx = 0\n",
    "while True:\n",
    "    idx = idx + 1\n",
    "\n",
    "    if idx > 10:\n",
    "        break # 반복문 종료\n",
    "    \n",
    "    if idx % 2 == 0: # 짝수인 경우 \n",
    "        continue # 반복문의 처음 위치로 이동\n",
    "    \n",
    "    sum_value += idx\n",
    "    \n",
    "\n",
    "print(\"SUM : {0}\".format(sum_value))\n",
    "    "
   ]
  },
  {
   "cell_type": "code",
   "execution_count": 117,
   "metadata": {},
   "outputs": [
    {
     "name": "stdout",
     "output_type": "stream",
     "text": [
      "SUM OF 1 TO 10 = 55\n"
     ]
    }
   ],
   "source": [
    "# rng = range(1, 11)\n",
    "sum_value = 0\n",
    "for idx in range(1, 11):\n",
    "    sum_value = sum_value + idx\n",
    "\n",
    "print(\"SUM OF {0} TO {1} = {2}\".format(1, 10, sum_value))"
   ]
  },
  {
   "cell_type": "code",
   "execution_count": 126,
   "metadata": {},
   "outputs": [
    {
     "name": "stdout",
     "output_type": "stream",
     "text": [
      "[1, 18, 33, 37, 45, 45, 47, 52, 62, 79]\n",
      "419\n"
     ]
    }
   ],
   "source": [
    "# 1. 10개의 난수 만들기\n",
    "import random\n",
    "numbers = [] # list 만들기\n",
    "for idx in range(10): # 0 ~ 9 (9포함)\n",
    "    n = random.randint(1, 100)\n",
    "    numbers.append(n)\n",
    "\n",
    "numbers.sort()\n",
    "print(numbers)\n",
    "\n",
    "# 2. 뽑힌 난수의 합 구하기\n",
    "sum_value = 0\n",
    "for number in numbers:\n",
    "    # sum_value = sum_value + number\n",
    "    sum_value += number\n",
    "\n",
    "print(sum_value)\n"
   ]
  },
  {
   "cell_type": "code",
   "execution_count": 131,
   "metadata": {},
   "outputs": [
    {
     "name": "stdout",
     "output_type": "stream",
     "text": [
      "[8, 19, 22, 43, 82, 84, 98, 99, 99, 100]\n",
      "[840, 990, 990]\n",
      "[80, 190, 220, 430, 820, 840, 980, 990, 990, 1000]\n"
     ]
    }
   ],
   "source": [
    "# 내포\n",
    "# 1. 10개의 난수 만들기\n",
    "import random\n",
    "numbers = [] # list 만들기\n",
    "for idx in range(10): # 0 ~ 9 (9포함)\n",
    "    n = random.randint(1, 100)\n",
    "    numbers.append(n)\n",
    "\n",
    "numbers.sort()\n",
    "print(numbers)\n",
    "\n",
    "# 2. 3의 배수만 뽑아서 *10 한 값으로 새로운 목록 만들기 1\n",
    "new_numbers = []\n",
    "for number in numbers:\n",
    "    if number % 3 == 0:\n",
    "        new_numbers.append(number * 10)\n",
    "print(new_numbers)\n",
    "\n",
    "# 2. 3의 배수만 뽑아서 *10 한 값으로 새로운 목록 만들기 2\n",
    "new_numbers2 = [number * 10 for number in numbers if number % 3 == 0]\n",
    "print(new_numbers2)\n"
   ]
  },
  {
   "cell_type": "code",
   "execution_count": 134,
   "metadata": {},
   "outputs": [
    {
     "name": "stdout",
     "output_type": "stream",
     "text": [
      "0\n",
      "1\n",
      "2\n",
      "3\n",
      "4\n",
      "5\n"
     ]
    }
   ],
   "source": [
    "# for ~ else\n",
    "for i in range(10):\n",
    "    print ( i )\n",
    "    \n",
    "else : # 반복문이 중간에 중단되지 않았을 때 실행되는 영역\n",
    "    print(\"in else\")\n"
   ]
  },
  {
   "cell_type": "code",
   "execution_count": null,
   "metadata": {},
   "outputs": [],
   "source": []
  }
 ],
 "metadata": {
  "kernelspec": {
   "display_name": "kdt-da",
   "language": "python",
   "name": "python3"
  },
  "language_info": {
   "codemirror_mode": {
    "name": "ipython",
    "version": 3
   },
   "file_extension": ".py",
   "mimetype": "text/x-python",
   "name": "python",
   "nbconvert_exporter": "python",
   "pygments_lexer": "ipython3",
   "version": "3.9.16"
  },
  "orig_nbformat": 4
 },
 "nbformat": 4,
 "nbformat_minor": 2
}
