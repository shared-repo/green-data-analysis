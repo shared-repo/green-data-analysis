{
 "cells": [
  {
   "cell_type": "code",
   "execution_count": 8,
   "metadata": {},
   "outputs": [],
   "source": [
    "# 클래스 만들기\n",
    "class Employee:\n",
    "    'Common base class for all employees'\n",
    "    \n",
    "    empCount = 0 # 모든 인스턴스가 공유하는 변수\n",
    "    \n",
    "    def __init__(self, name, salary): # Employee(...) 할 때 자동 호출\n",
    "        print(\"constructor\")\n",
    "        self.name = name # 인스턴스마다 각각 만들어지는 변수\n",
    "        self.salary = salary\n",
    "        Employee.empCount += 1\n",
    "    \n",
    "    def displayCount(self):\n",
    "        print(\"Total Employee %d\" % Employee.empCount)\n",
    "    \n",
    "    def displayEmployee(self):\n",
    "        print(\"Name : \", self.name, \", Salary: \", self.salary)\n"
   ]
  },
  {
   "cell_type": "code",
   "execution_count": 13,
   "metadata": {},
   "outputs": [
    {
     "name": "stdout",
     "output_type": "stream",
     "text": [
      "constructor\n",
      "Name :  장동건 , Salary:  1000\n",
      "5\n",
      "Name :  송강호 , Salary:  100000\n"
     ]
    }
   ],
   "source": [
    "# 클래스 사용\n",
    "emp = Employee(\"장동건\", 1000) # 인스턴스 만들기 ( 변수 만들기 )\n",
    "emp.displayEmployee() # 클래스에 포함된 변수나 함수 사용을 위해 .연산자 사용\n",
    "print( Employee.empCount ) # 클래스 변수는 클래스이름.변수이름 형식으로 사용\n",
    "\n",
    "emp.name = \"송강호\" # self.name으로 만든 변수의 값 수정\n",
    "emp.salary = 100000 # self.salaryfh 만든 변수의 값 수정\n",
    "emp.displayEmployee()"
   ]
  },
  {
   "cell_type": "code",
   "execution_count": 14,
   "metadata": {},
   "outputs": [
    {
     "name": "stdout",
     "output_type": "stream",
     "text": [
      "class method\n",
      "static method\n",
      "method\n"
     ]
    }
   ],
   "source": [
    "class Test:\n",
    "    @classmethod\n",
    "    def class_method(cls):\n",
    "        print('class method')\n",
    "    @staticmethod\n",
    "    def static_method():\n",
    "        print('static method')\n",
    "\n",
    "    def method(self):\n",
    "        print(\"method\")\n",
    "\n",
    "Test.class_method()\n",
    "Test.static_method()\n",
    "\n",
    "test = Test()\n",
    "test.method()\n"
   ]
  },
  {
   "cell_type": "code",
   "execution_count": 18,
   "metadata": {},
   "outputs": [],
   "source": [
    "class Parent: # define parent class\n",
    "    parentAttr = 100\n",
    "    def __init__(self):\n",
    "        print (\"Calling parent constructor\")\n",
    "    def parentMethod(self):\n",
    "        print ('Calling parent method')\n",
    "    def setAttr(self, attr):\n",
    "        Parent.parentAttr = attr\n",
    "    def getAttr(self):\n",
    "        print (\"Parent attribute :\", Parent.parentAttr)\n",
    "\n",
    "class Child(Parent): # define child class\n",
    "    def __init__(self):\n",
    "        print (\"Calling child constructor\")\n",
    "    def childMethod(self):\n",
    "        print ('Calling child method')\n"
   ]
  },
  {
   "cell_type": "code",
   "execution_count": 20,
   "metadata": {},
   "outputs": [
    {
     "name": "stdout",
     "output_type": "stream",
     "text": [
      "Calling child constructor\n",
      "Calling child method\n",
      "Calling parent method\n",
      "Parent attribute : 200\n"
     ]
    }
   ],
   "source": [
    "c = Child()             # instance of child\n",
    "c.childMethod()         # child calls its method\n",
    "c.parentMethod()        # calls parent's method\n",
    "c.setAttr(200)          # again call parent's method\n",
    "c.getAttr()             # again call parent's method"
   ]
  },
  {
   "cell_type": "code",
   "execution_count": 22,
   "metadata": {},
   "outputs": [
    {
     "name": "stdout",
     "output_type": "stream",
     "text": [
      "True\n",
      "False\n",
      "True\n",
      "True\n",
      "True\n"
     ]
    }
   ],
   "source": [
    "print( issubclass(Child, Parent) )  # True\n",
    "print( issubclass(Parent, Child) )  # False\n",
    "print( issubclass(Parent, Parent) ) # True\n",
    "print( issubclass(Parent, object) ) # True # object는 모든 클래스의 부모 클래스\n",
    "print( issubclass(Child, object) )  # True # object는 모든 클래스의 부모 클래스"
   ]
  },
  {
   "cell_type": "code",
   "execution_count": 27,
   "metadata": {},
   "outputs": [
    {
     "name": "stdout",
     "output_type": "stream",
     "text": [
      "Name:홍길동, Phone Number: 010-9854-1236\n",
      "Subject: DataAnalysis, Student ID: 000001\n"
     ]
    }
   ],
   "source": [
    "class Person: \n",
    "    \" 부모 클래스 \" \n",
    "    def __init__(self, name, phoneNumber): \n",
    "        self.Name = name \n",
    "        self.PhoneNumber = phoneNumber \n",
    "    def PrintInfo(self): \n",
    "        print(\"Name:{0}, Phone Number: {1}\".format(self.Name, self.PhoneNumber)) \n",
    "    def PrintPersonData(self): \n",
    "        print(\"Person(Name:{0}, Phone Number: {1})\".format(self.Name, self.PhoneNumber))\n",
    "class Student(Person): \n",
    "    \" 자식 클래스 \" \n",
    "    def __init__(self, name, phoneNumber, subject, studentID): \n",
    "        # self.Name = name \n",
    "        # self.PhoneNumber = phoneNumber\n",
    "        # Person.__init__(self, name, phoneNumber) # 부모 클래스의 생성자 메서드 호출\n",
    "        super().__init__(name, phoneNumber) # super() : 부모 클래스 가져오기\n",
    "        self.Subject = subject \n",
    "        self.StudentID = studentID\n",
    "\n",
    "    def PrintStudentData(self):        \n",
    "        print(\"Subject: {0}, Student ID: {1}\".format(self.Subject, self.StudentID))\n",
    "\n",
    "    def PrintInfo(self): # 부모 클래스의 메서드 재정의 (같은 이름의 메서드 만들기)\n",
    "        super().PrintInfo() \n",
    "        print(\"Subject: {0}, Student ID: {1}\".format(self.Subject, self.StudentID))\n",
    "\n",
    "\n",
    "\n",
    "student = Student(\"홍길동\", \"010-9854-1236\", \"DataAnalysis\", \"000001\")\n",
    "# student.PrintInfo()\n",
    "# student.PrintStudentData()\n",
    "student.PrintInfo()"
   ]
  },
  {
   "cell_type": "code",
   "execution_count": 30,
   "metadata": {},
   "outputs": [
    {
     "name": "stdout",
     "output_type": "stream",
     "text": [
      "호랑이처럼 멀리 점프하기\n",
      "사자처럼 한입에 꿀꺽하기\n",
      "라이거만의 사육사와 재미있게 놀기\n",
      "사자: 으르렁~\n"
     ]
    }
   ],
   "source": [
    "class Tiger: \n",
    "    def Jump(self): \n",
    "        print(\"호랑이처럼 멀리 점프하기\")\n",
    "    def Cry(self): \n",
    "        print(\"호랑이: 어흥~\")\n",
    "\n",
    "class Lion: \n",
    "    def Bite(self): \n",
    "        print(\"사자처럼 한입에 꿀꺽하기\")\n",
    "    def Cry(self): \n",
    "        print(\"사자: 으르렁~\")\n",
    "\n",
    "class Liger(Lion, Tiger): \n",
    "    def Play(self): \n",
    "        print(\"라이거만의 사육사와 재미있게 놀기\")\n",
    "\n",
    "liger = Liger()\n",
    "liger.Jump()\n",
    "liger.Bite()\n",
    "liger.Play()\n",
    "liger.Cry() # Lion, Tiger 모두로 부터 상속 -> 어느 것을 호출할까요?\n"
   ]
  }
 ],
 "metadata": {
  "kernelspec": {
   "display_name": "kdt-da",
   "language": "python",
   "name": "python3"
  },
  "language_info": {
   "codemirror_mode": {
    "name": "ipython",
    "version": 3
   },
   "file_extension": ".py",
   "mimetype": "text/x-python",
   "name": "python",
   "nbconvert_exporter": "python",
   "pygments_lexer": "ipython3",
   "version": "3.9.16"
  },
  "orig_nbformat": 4
 },
 "nbformat": 4,
 "nbformat_minor": 2
}
