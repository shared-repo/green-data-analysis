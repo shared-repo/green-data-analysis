{
 "cells": [
  {
   "cell_type": "code",
   "execution_count": 2,
   "metadata": {},
   "outputs": [
    {
     "ename": "ZeroDivisionError",
     "evalue": "division by zero",
     "output_type": "error",
     "traceback": [
      "\u001b[1;31m---------------------------------------------------------------------------\u001b[0m",
      "\u001b[1;31mZeroDivisionError\u001b[0m                         Traceback (most recent call last)",
      "Cell \u001b[1;32mIn[2], line 3\u001b[0m\n\u001b[0;32m      1\u001b[0m \u001b[39m# 오류 발생 코드\u001b[39;00m\n\u001b[0;32m      2\u001b[0m \u001b[39m# f = open('abc.txt')\u001b[39;00m\n\u001b[1;32m----> 3\u001b[0m r \u001b[39m=\u001b[39m \u001b[39m4\u001b[39;49m \u001b[39m/\u001b[39;49m \u001b[39m0\u001b[39;49m\n",
      "\u001b[1;31mZeroDivisionError\u001b[0m: division by zero"
     ]
    }
   ],
   "source": [
    "# 오류 발생 코드\n",
    "# f = open('abc.txt')\n",
    "# r = 4 / 0"
   ]
  },
  {
   "cell_type": "code",
   "execution_count": 15,
   "metadata": {},
   "outputs": [
    {
     "name": "stdout",
     "output_type": "stream",
     "text": [
      "[Errno 2] No such file or directory: 'not-exist.txt'\n",
      "항상 실행\n"
     ]
    }
   ],
   "source": [
    "import random\n",
    "try:\n",
    "    n = random.randint(1, 4)\n",
    "    if n == 1:\n",
    "        10 / 0\n",
    "    elif n == 2:\n",
    "        f = open(\"not-exist.txt\")\n",
    "    elif n == 3:\n",
    "        raise NotImplementedError(\"서비스 준비 중\") # 강제 예외 발생\n",
    "    else:\n",
    "        print(\"No Error\")\n",
    "except ZeroDivisionError:\n",
    "    print(\"ZeroDivisionError가 처리되었습니다.\")\n",
    "except FileNotFoundError as e:\n",
    "    print(e)\n",
    "except NotImplementedError as e2:\n",
    "    print(e2)\n",
    "else:\n",
    "    print(\"정상 실행\")\n",
    "finally:\n",
    "    print(\"항상 실행\")\n"
   ]
  }
 ],
 "metadata": {
  "kernelspec": {
   "display_name": "kdt-da",
   "language": "python",
   "name": "python3"
  },
  "language_info": {
   "codemirror_mode": {
    "name": "ipython",
    "version": 3
   },
   "file_extension": ".py",
   "mimetype": "text/x-python",
   "name": "python",
   "nbconvert_exporter": "python",
   "pygments_lexer": "ipython3",
   "version": "3.9.16"
  },
  "orig_nbformat": 4
 },
 "nbformat": 4,
 "nbformat_minor": 2
}
