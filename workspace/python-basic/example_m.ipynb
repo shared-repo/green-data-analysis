{
 "cells": [
  {
   "cell_type": "code",
   "execution_count": 2,
   "metadata": {},
   "outputs": [
    {
     "name": "stdout",
     "output_type": "stream",
     "text": [
      "파일에 데이터를 썼습니다.\n"
     ]
    }
   ],
   "source": [
    "# 파일 열기 (만들기)\n",
    "f = open(\"test.txt\", \"wt\")\n",
    "\n",
    "f.write(\"파일에 기록하는 데이터 1\\n\")\n",
    "f.write(\"파일에 기록하는 데이터 2\\n\")\n",
    "f.write(\"파일에 기록하는 데이터 3\\n\")\n",
    "\n",
    "# 파일 닫기\n",
    "f.close()\n",
    "\n",
    "print(\"파일에 데이터를 썼습니다.\")"
   ]
  },
  {
   "cell_type": "code",
   "execution_count": 3,
   "metadata": {},
   "outputs": [
    {
     "name": "stdout",
     "output_type": "stream",
     "text": [
      "파일에 데이터를 썼습니다.\n"
     ]
    }
   ],
   "source": [
    "# 파일 열기 (만들기)\n",
    "with open(\"test.txt\", \"wt\") as f: # with block 종료 시점에 자동으로 파일 close\n",
    "\n",
    "    f.write(\"파일에 기록하는 데이터 1\\n\")\n",
    "    f.write(\"파일에 기록하는 데이터 2\\n\")\n",
    "    f.write(\"파일에 기록하는 데이터 3\\n\")\n",
    "\n",
    "print(\"파일에 데이터를 썼습니다.\")"
   ]
  },
  {
   "cell_type": "code",
   "execution_count": 4,
   "metadata": {},
   "outputs": [
    {
     "name": "stdout",
     "output_type": "stream",
     "text": [
      "파일에 기록하는 데이터 1\n",
      "파일에 기록하는 데이터 2\n",
      "파일에 기록하는 데이터 3\n",
      "\n"
     ]
    }
   ],
   "source": [
    "with open('test.txt', 'rt', encoding='utf-8') as f:\n",
    "    print(f.read()) # 파일 전체 읽기"
   ]
  },
  {
   "cell_type": "code",
   "execution_count": 6,
   "metadata": {},
   "outputs": [
    {
     "name": "stdout",
     "output_type": "stream",
     "text": [
      "3\n",
      "파일에 기록하는 데이터 1\n",
      "파일에 기록하는 데이터 2\n",
      "파일에 기록하는 데이터 3\n"
     ]
    }
   ],
   "source": [
    "with open('test.txt', 'rt', encoding='utf-8') as f:\n",
    "    lines = f.readlines() # 행 단위로 전체 파일 읽기 : 문자열의 리스트로 반환\n",
    "    print( len(lines) )\n",
    "    for line in lines:\n",
    "        print(line, end='')\n"
   ]
  },
  {
   "cell_type": "code",
   "execution_count": 7,
   "metadata": {},
   "outputs": [
    {
     "name": "stdout",
     "output_type": "stream",
     "text": [
      "파일에 기록하는 데이터 1\n",
      "파일에 기록하는 데이터 2\n",
      "파일에 기록하는 데이터 3\n"
     ]
    }
   ],
   "source": [
    "with open('test.txt', 'rt', encoding='utf-8') as f:\n",
    "    while True:\n",
    "        line = f.readline() # 한 행 읽기 -> 더 이상 읽을 데이터가 없으면(EOF) None \n",
    "        if not line:\n",
    "            break\n",
    "        print(line, end='')\n"
   ]
  }
 ],
 "metadata": {
  "kernelspec": {
   "display_name": "kdt-da",
   "language": "python",
   "name": "python3"
  },
  "language_info": {
   "codemirror_mode": {
    "name": "ipython",
    "version": 3
   },
   "file_extension": ".py",
   "mimetype": "text/x-python",
   "name": "python",
   "nbconvert_exporter": "python",
   "pygments_lexer": "ipython3",
   "version": "3.9.16"
  },
  "orig_nbformat": 4
 },
 "nbformat": 4,
 "nbformat_minor": 2
}
